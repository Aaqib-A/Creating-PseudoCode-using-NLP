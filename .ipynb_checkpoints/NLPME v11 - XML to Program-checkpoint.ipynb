{
 "cells": [
  {
   "cell_type": "code",
   "execution_count": 3,
   "metadata": {
    "scrolled": true
   },
   "outputs": [],
   "source": [
    "import xml.etree.ElementTree as ET\n",
    "tree = ET.parse('xml_test.xml')\n",
    "root = tree.getroot()"
   ]
  },
  {
   "cell_type": "code",
   "execution_count": 4,
   "metadata": {},
   "outputs": [
    {
     "name": "stdout",
     "output_type": "stream",
     "text": [
      "root\n",
      "{}\n",
      "variables\n"
     ]
    }
   ],
   "source": [
    "print(root.tag)\n",
    "\n",
    "print(root.attrib)\n",
    "print(root[1][0].tag)"
   ]
  },
  {
   "cell_type": "code",
   "execution_count": 5,
   "metadata": {
    "scrolled": false
   },
   "outputs": [
    {
     "name": "stdout",
     "output_type": "stream",
     "text": [
      "{'name': 'a', 'datatype': 'number'}\n",
      "{'name': 'num_1', 'scope': 'local', 'datatype': 'number', 'value': '15'}\n",
      "{'name': 'b', 'datatype': 'number'}\n"
     ]
    }
   ],
   "source": [
    "for variable in root.iter('variable'):\n",
    "    print(variable.attrib)"
   ]
  },
  {
   "cell_type": "code",
   "execution_count": 6,
   "metadata": {
    "scrolled": false
   },
   "outputs": [
    {
     "name": "stdout",
     "output_type": "stream",
     "text": [
      "statement\n",
      "{'value': 'create a function to add a and local number num_1 = 15 and b'}\n",
      "program\n",
      "{'type': 'function', 'name': 'create_function'}\n",
      "\n",
      "variables\n",
      "{}\n",
      "add\n",
      "{'variable1': 'a', 'variable2': 'num_1', 'variable3': 'b'}\n",
      "\n",
      "variable\n",
      "{'name': 'a', 'datatype': 'number'}\n"
     ]
    }
   ],
   "source": [
    "print(root[0].tag) \n",
    "print(root[0].attrib) \n",
    "print(root[1].tag)\n",
    "print(root[1].attrib) \n",
    "\n",
    "print(\"\")\n",
    "#print(root[0][0].tag)  \n",
    "#print(root[0][1].tag)  \n",
    "print(root[1][0].tag)\n",
    "print(root[1][0].attrib)\n",
    "print(root[1][1].tag)\n",
    "print(root[1][1].attrib)\n",
    "\n",
    "#print(root[1][2].tag)\n",
    "\n",
    "print(\"\")\n",
    "print(root[1][0][0].tag)\n",
    "print(root[1][0][0].attrib)"
   ]
  },
  {
   "cell_type": "code",
   "execution_count": 21,
   "metadata": {},
   "outputs": [
    {
     "name": "stdout",
     "output_type": "stream",
     "text": [
      "statement {'value': 'create a function to add a and local number num_1 = 15 and b'}\n",
      "program {'type': 'function', 'name': 'create_function'}\n",
      "\n",
      "variables {}\n",
      "add {'variable1': 'a', 'variable2': 'num_1', 'variable3': 'b'}\n",
      "\n",
      "variable {'name': 'a', 'datatype': 'number'}\n",
      "variable {'name': 'num_1', 'scope': 'local', 'datatype': 'number', 'value': '15'}\n",
      "variable {'name': 'b', 'datatype': 'number'}\n"
     ]
    }
   ],
   "source": [
    "for child in root:\n",
    "    print(child.tag ,child.attrib)\n",
    "    \n",
    "print()\n",
    "for child in root[1]:\n",
    "    print(child.tag, child.attrib)\n",
    "    \n",
    "print()\n",
    "for child in root[1][0]:\n",
    "    print(child.tag, child.attrib)"
   ]
  },
  {
   "cell_type": "code",
   "execution_count": 33,
   "metadata": {},
   "outputs": [
    {
     "name": "stdout",
     "output_type": "stream",
     "text": [
      "number a \n",
      "number num_1 = 15\n",
      "number b \n"
     ]
    }
   ],
   "source": [
    "def get_xml_variables(data):\n",
    "    \n",
    "    #print(data)     \n",
    "    var_name = data.get('name', None)\n",
    "    var_scope = data.get('scope', None)\n",
    "    var_datatype = data.get('datatype', None)\n",
    "    var_value = data.get('value', None)\n",
    "    \n",
    "    final_sentence = \"\"\n",
    "    \n",
    "    #Python    \n",
    "    if var_scope != None:\n",
    "        if var_scope == \"global\":\n",
    "            final_sentence += var_scope + \" \"\n",
    "        if var_scope == \"local\":\n",
    "            final_sentence += \"\"\n",
    "    if var_datatype != None:\n",
    "        final_sentence += var_datatype + \" \"\n",
    "    final_sentence += var_name + \" \"\n",
    "    if var_value != None:\n",
    "        final_sentence += \"= \" + var_value\n",
    "    \n",
    "    return (final_sentence)\n",
    "\n",
    "for child in root[1][0]:\n",
    "    #print(child.tag, child.attrib)\n",
    "    print( get_xml_variables(child.attrib) )"
   ]
  },
  {
   "cell_type": "code",
   "execution_count": 79,
   "metadata": {},
   "outputs": [
    {
     "name": "stdout",
     "output_type": "stream",
     "text": [
      "add {'variable1': 'a', 'variable2': 'num_1', 'variable3': 'b'}\n",
      "answer = a + num_1 + b\n"
     ]
    }
   ],
   "source": [
    "def get_xml_program(data_tag, data):\n",
    "    #print(data)\n",
    "    #var_name = data.get('name', None)\n",
    "    #output_var = data.get('output', None)\n",
    "    output_var = \"answer\"\n",
    "    \n",
    "    final_sentence = \"\"\n",
    "    \n",
    "    #get Variables - START\n",
    "    variables = []\n",
    "    temp_var_name = \"variable\"\n",
    "    \n",
    "    var_name = data.get(temp_var_name, None)\n",
    "    if var_name != None:\n",
    "        variables.append(var_name)\n",
    "        \n",
    "    for i in range(len(data)):\n",
    "        var_name = data.get( temp_var_name+str(i+1), None )\n",
    "        if var_name == None:\n",
    "            break\n",
    "        else:\n",
    "            variables.append(var_name)\n",
    "            \n",
    "    #print(variables)\n",
    "    #get Variables - END\n",
    "    \n",
    "  \n",
    "    if data_tag == \"print\":\n",
    "        print(\"print\")\n",
    "        final_sentence = \"print(\" + variables[0]\n",
    "        variables.pop(0)\n",
    "        for each_var in variables:\n",
    "            final_sentence += \" + \" + each_var\n",
    "        final_sentence += \")\"\n",
    "        \n",
    "    if data_tag == \"input\":\n",
    "        print(\"input\")\n",
    "        final_sentence = \"input(\" + variables[0]\n",
    "        variables.pop(0)\n",
    "        for each_var in variables:\n",
    "            final_sentence += \" + \" + each_var\n",
    "        final_sentence += \")\"\n",
    "        \n",
    "    if data_tag == \"add\":\n",
    "        final_sentence = output_var + \" = \" + variables[0]\n",
    "        variables.pop(0)\n",
    "        for each_var in variables:\n",
    "            final_sentence += \" + \" + each_var\n",
    "            \n",
    "    if data_tag == \"subtract\":\n",
    "        final_sentence = output_var + \" = \" + variables[0]\n",
    "        variables.pop(0)\n",
    "        for each_var in variables:\n",
    "            final_sentence += \" - \" + each_var\n",
    "            \n",
    "    if data_tag == \"multiply\":\n",
    "        final_sentence = output_var + \" = \" + variables[0]\n",
    "        variables.pop(0)\n",
    "        for each_var in variables:\n",
    "            final_sentence += \" * \" + each_var\n",
    "\n",
    "    if data_tag == \"divide\":\n",
    "        final_sentence = output_var + \" = \" + variables[0]\n",
    "        variables.pop(0)\n",
    "        for each_var in variables:\n",
    "            final_sentence += \" / \" + each_var\n",
    "            \n",
    "    if data_tag == \"mod\":\n",
    "        final_sentence = output_var + \" = \" + variables[0]\n",
    "        variables.pop(0)\n",
    "        for each_var in variables:\n",
    "            final_sentence += \" % \" + each_var\n",
    "\n",
    "    return (final_sentence)\n",
    "\n",
    "variables_ignore_flag = True\n",
    "for child in root[1]:\n",
    "    if variables_ignore_flag == True:\n",
    "        variables_ignore_flag = False\n",
    "        continue\n",
    "    print(child.tag, child.attrib)\n",
    "    print( get_xml_program(child.tag, child.attrib) )"
   ]
  },
  {
   "cell_type": "code",
   "execution_count": 78,
   "metadata": {},
   "outputs": [
    {
     "name": "stdout",
     "output_type": "stream",
     "text": [
      "number a \n",
      "number num_1 = 15\n",
      "number b \n",
      "\n",
      "answer = a + num_1 + b\n"
     ]
    }
   ],
   "source": [
    "for child in root[1][0]:\n",
    "    #print(child.tag, child.attrib)\n",
    "    print( get_xml_variables(child.attrib) )\n",
    "\n",
    "print()\n",
    "variables_ignore_flag = True\n",
    "for child in root[1]:\n",
    "    if variables_ignore_flag == True:\n",
    "        variables_ignore_flag = False\n",
    "        continue\n",
    "    #print(child.tag, child.attrib)\n",
    "    print( get_xml_program(child.tag, child.attrib) )"
   ]
  },
  {
   "cell_type": "code",
   "execution_count": 92,
   "metadata": {},
   "outputs": [
    {
     "name": "stdout",
     "output_type": "stream",
     "text": [
      "statement {'value': 'create a function to add a and local number num_1 = 15 and b'}\n",
      "program {'type': 'function', 'name': 'create_function'}\n",
      "statement : create a function to add a and local number num_1 = 15 and b\n",
      "type : function\n",
      "name : create_function\n"
     ]
    }
   ],
   "source": [
    "def get_xml_program(data_tag,data):\n",
    "    \n",
    "    orig_statement = \"\"\n",
    "    prog_type = \"\"\n",
    "    prog_name = \"\"\n",
    "    if data_tag == \"statement\":\n",
    "        orig_statement = data.get(\"value\", None)\n",
    "        \n",
    "    if data_tag == \"program\":\n",
    "        prog_type = data.get(\"type\", None)\n",
    "        prog_name = data.get(\"name\", None)\n",
    "        \n",
    "    return(prog_type, prog_name, orig_statement)\n",
    "\n",
    "for child in root:\n",
    "    print(child.tag ,child.attrib)\n",
    "    #print(get_xml_program(child.tag ,child.attrib))\n",
    "    if child.tag == \"statement\":\n",
    "        temp_var, temp_var, orig_statement = get_xml_program(child.tag ,child.attrib)\n",
    "    elif child.tag == \"program\":\n",
    "        prog_type, prog_name, temp_var = get_xml_program(child.tag ,child.attrib)\n",
    "        \n",
    "print(\"statement : \" +orig_statement)\n",
    "print(\"type : \" +prog_type)\n",
    "print(\"name : \" +prog_name)"
   ]
  },
  {
   "cell_type": "code",
   "execution_count": null,
   "metadata": {},
   "outputs": [],
   "source": []
  }
 ],
 "metadata": {
  "kernelspec": {
   "display_name": "Python 3",
   "language": "python",
   "name": "python3"
  },
  "language_info": {
   "codemirror_mode": {
    "name": "ipython",
    "version": 3
   },
   "file_extension": ".py",
   "mimetype": "text/x-python",
   "name": "python",
   "nbconvert_exporter": "python",
   "pygments_lexer": "ipython3",
   "version": "3.8.5"
  }
 },
 "nbformat": 4,
 "nbformat_minor": 4
}
