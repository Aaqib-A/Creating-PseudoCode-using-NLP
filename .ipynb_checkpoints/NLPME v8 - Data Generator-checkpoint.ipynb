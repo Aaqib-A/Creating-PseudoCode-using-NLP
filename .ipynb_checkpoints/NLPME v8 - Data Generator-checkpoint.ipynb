{
 "cells": [
  {
   "cell_type": "code",
   "execution_count": 53,
   "metadata": {},
   "outputs": [],
   "source": [
    "#Different Data to fill\n",
    "dataType=[\n",
    "          \"integer\",\"integers\", \"int\",\"ints\",\n",
    "          \"float\", \"floats\", \n",
    "          \"number\", \"numbers\", \"num\",\"nums\",\n",
    "          \"variable\", \"variables\", \"var\", \"vars\",\n",
    "          \"double\", \"doubles\",\n",
    "          \"character\", \"characters\", \"char\", \"chars\", \n",
    "          \"string\", \"strings\", \"str\", \"strs\", \n",
    "          \"void\", \"voids\",\n",
    "          \"array\", \"arrays\",\n",
    "          \"list\", \"lists\",\n",
    "          \"vector\", \"vectors\",\n",
    "          \"class\", \"classes\"\n",
    "         ]\n",
    "\n",
    "scope_of_variable = [\"global\", \"local\", \"\"]\n",
    "\n",
    "operators = [\n",
    "             \"addition\",\"add\",\"+\", \n",
    "             \"subtraction\", \"sub\",\"-\", \"minus\", \n",
    "             \"multiply\", \"mul\", \"*\",\n",
    "             \"divide\", \"div\", \"/\",\n",
    "             \"modulo\", \"modulus\", \"mod\", \"%\"\n",
    "            ]\n",
    "command_declare = [\"create\",\"creates\", \"define\",\"defines\", \"declare\", \"declares\", \"set\", \"sets\"]\n",
    "command_print = [\"print\", \"prints\", \"display\", \"displays\", \"show\", \"shows\"]\n",
    "command_input = [\"get\", \"input\"]"
   ]
  },
  {
   "cell_type": "code",
   "execution_count": 54,
   "metadata": {},
   "outputs": [
    {
     "name": "stdout",
     "output_type": "stream",
     "text": [
      "['integer0', 'integer1', 'integer2', 'int0', 'int1', 'int2', 'float0', 'float1', 'float2', 'number0', 'number1', 'number2', 'num0', 'num1', 'num2', 'variable0', 'variable1', 'variable2', 'var0', 'var1', 'var2', 'double0', 'double1', 'double2', 'character0', 'character1', 'character2', 'char0', 'char1', 'char2', 'string0', 'string1', 'string2', 'str0', 'str1', 'str2', 'void0', 'void1', 'void2', 'array0', 'array1', 'array2', 'list0', 'list1', 'list2', 'vector0', 'vector1', 'vector2', 'class0', 'class1', 'class2', 'i', 'j', 'k', 'a', 'b', 'c']\n"
     ]
    }
   ],
   "source": [
    "#Program to create variables\n",
    "variables_list = []\n",
    "\n",
    "s_included = False\n",
    "for each_dtype in dataType:\n",
    "    if (s_included==False):\n",
    "        for i in range(0,3):\n",
    "            #print (each_dtype+str(i))\n",
    "            variables_list.append(each_dtype+str(i))\n",
    "        s_included = True\n",
    "    else:\n",
    "        s_included = False\n",
    "\n",
    "variables_list.append(\"i\")\n",
    "variables_list.append(\"j\")\n",
    "variables_list.append(\"k\")\n",
    "variables_list.append(\"a\")\n",
    "variables_list.append(\"b\")\n",
    "variables_list.append(\"c\")\n",
    "\n",
    "print (variables_list)"
   ]
  },
  {
   "cell_type": "code",
   "execution_count": 55,
   "metadata": {},
   "outputs": [],
   "source": [
    "#Prepare Data\n",
    "\n",
    "#DTYPE\n",
    "#SCOPE_OFVAR\n",
    "#OPER\n",
    "#CMD_DEC\n",
    "#CMD_PRNT\n",
    "#CMD_INPUT\n",
    "#VARI\n",
    "\n",
    "input_txt=[]\n",
    "input_txt.append(\"CMD_DEC SCOPE_OFVAR DTYPE\")"
   ]
  },
  {
   "cell_type": "code",
   "execution_count": 16,
   "metadata": {},
   "outputs": [
    {
     "name": "stdout",
     "output_type": "stream",
     "text": [
      "CMD_DEC SCOPE_OFVAR DTYPE\n",
      "126\n"
     ]
    }
   ],
   "source": [
    "#Substitute and create dataset\n",
    "generated_data = []\n",
    "\n",
    "for eachLine in input_txt:\n",
    "    print (eachLine)\n",
    "    \n",
    "    for each_dtype in dataType:\n",
    "        tmp_txt = eachLine.replace(\"DTYPE\", each_dtype)\n",
    "        generated_data.append( tmp_txt )\n",
    "        \n",
    "    for each_scope in scope_of_variable:\n",
    "        tmp_txt = eachLine.replace(\"SCOPE_OFVAR\", each_scope)\n",
    "        generated_data.append( tmp_txt )\n",
    "        \n",
    "    for each_oper in operators:\n",
    "        tmp_txt = eachLine.replace(\"SCOPE_OFVAR\", each_oper)\n",
    "        generated_data.append( tmp_txt )\n",
    "        \n",
    "    for each_cmd_dec in command_declare:\n",
    "        tmp_txt = eachLine.replace(\"CMD_DEC\", each_cmd_dec)\n",
    "        generated_data.append( tmp_txt )\n",
    "        \n",
    "    for each_cmd_print in command_print:\n",
    "        tmp_txt = eachLine.replace(\"CMD_PRNT\", each_cmd_print)\n",
    "        generated_data.append( tmp_txt )\n",
    "        \n",
    "    for each_cmd_input in command_input:\n",
    "        tmp_txt = eachLine.replace(\"CMD_INPUT\", each_cmd_input)\n",
    "        generated_data.append( tmp_txt )\n",
    "    \n",
    "    for each_variable in variables_list:\n",
    "        tmp_txt = eachLine.replace(\"VARI\", each_variable)\n",
    "        generated_data.append( tmp_txt )\n",
    "        \n",
    "print (generated_data)"
   ]
  },
  {
   "cell_type": "code",
   "execution_count": 67,
   "metadata": {},
   "outputs": [],
   "source": [
    "def generate_partial_data(txt_code, datafill_list, input_list):\n",
    "        \n",
    "    returnList = []\n",
    "    \n",
    "    for eachLine in input_list:\n",
    "        if txt_code in eachLine:\n",
    "            for eachData in datafill_list:\n",
    "                tmp_txt = eachLine.replace(txt_code, eachData)\n",
    "                tmp_txt = tmp_txt.replace(\"  \",\" \")\n",
    "                returnList.append(tmp_txt)\n",
    "                #print(\"tmp_txt: {}\".format(tmp_txt))\n",
    "        else:\n",
    "            returnList.append(eachLine)\n",
    "    return (returnList)\n",
    "    '''\n",
    "\n",
    "    for eachLine in input_txt:\n",
    "        if \"SCOPE_OFVAR\" in eachLine:\n",
    "            for each_scope in scope_of_variable:\n",
    "                tmp_txt = eachLine.replace(\"SCOPE_OFVAR\", each_scope)\n",
    "                output_list.append( tmp_txt )\n",
    "    '''\n",
    "#temp_gen_data1=[\"CMD_DEC SCOPE_OFVAR DTYPE\"]\n",
    "#print(my_func (\"DTYPE\", dataType, temp_gen_data1))\n"
   ]
  },
  {
   "cell_type": "code",
   "execution_count": 66,
   "metadata": {},
   "outputs": [
    {
     "name": "stdout",
     "output_type": "stream",
     "text": [
      "CMD_DEC SCOPE_OFVAR DTYPE\n",
      "['create global integer', 'creates global integer', 'define global integer', 'defines global integer', 'declare global integer', 'declares global integer', 'set global integer', 'sets global integer', 'create local integer', 'creates local integer', 'define local integer', 'defines local integer', 'declare local integer', 'declares local integer', 'set local integer', 'sets local integer', 'create integer', 'creates integer', 'define integer', 'defines integer', 'declare integer', 'declares integer', 'set integer', 'sets integer', 'create global integers', 'creates global integers', 'define global integers', 'defines global integers', 'declare global integers', 'declares global integers', 'set global integers', 'sets global integers', 'create local integers', 'creates local integers', 'define local integers', 'defines local integers', 'declare local integers', 'declares local integers', 'set local integers', 'sets local integers', 'create integers', 'creates integers', 'define integers', 'defines integers', 'declare integers', 'declares integers', 'set integers', 'sets integers', 'create global int', 'creates global int', 'define global int', 'defines global int', 'declare global int', 'declares global int', 'set global int', 'sets global int', 'create local int', 'creates local int', 'define local int', 'defines local int', 'declare local int', 'declares local int', 'set local int', 'sets local int', 'create int', 'creates int', 'define int', 'defines int', 'declare int', 'declares int', 'set int', 'sets int', 'create global ints', 'creates global ints', 'define global ints', 'defines global ints', 'declare global ints', 'declares global ints', 'set global ints', 'sets global ints', 'create local ints', 'creates local ints', 'define local ints', 'defines local ints', 'declare local ints', 'declares local ints', 'set local ints', 'sets local ints', 'create ints', 'creates ints', 'define ints', 'defines ints', 'declare ints', 'declares ints', 'set ints', 'sets ints', 'create global float', 'creates global float', 'define global float', 'defines global float', 'declare global float', 'declares global float', 'set global float', 'sets global float', 'create local float', 'creates local float', 'define local float', 'defines local float', 'declare local float', 'declares local float', 'set local float', 'sets local float', 'create float', 'creates float', 'define float', 'defines float', 'declare float', 'declares float', 'set float', 'sets float', 'create global floats', 'creates global floats', 'define global floats', 'defines global floats', 'declare global floats', 'declares global floats', 'set global floats', 'sets global floats', 'create local floats', 'creates local floats', 'define local floats', 'defines local floats', 'declare local floats', 'declares local floats', 'set local floats', 'sets local floats', 'create floats', 'creates floats', 'define floats', 'defines floats', 'declare floats', 'declares floats', 'set floats', 'sets floats', 'create global number', 'creates global number', 'define global number', 'defines global number', 'declare global number', 'declares global number', 'set global number', 'sets global number', 'create local number', 'creates local number', 'define local number', 'defines local number', 'declare local number', 'declares local number', 'set local number', 'sets local number', 'create number', 'creates number', 'define number', 'defines number', 'declare number', 'declares number', 'set number', 'sets number', 'create global numbers', 'creates global numbers', 'define global numbers', 'defines global numbers', 'declare global numbers', 'declares global numbers', 'set global numbers', 'sets global numbers', 'create local numbers', 'creates local numbers', 'define local numbers', 'defines local numbers', 'declare local numbers', 'declares local numbers', 'set local numbers', 'sets local numbers', 'create numbers', 'creates numbers', 'define numbers', 'defines numbers', 'declare numbers', 'declares numbers', 'set numbers', 'sets numbers', 'create global num', 'creates global num', 'define global num', 'defines global num', 'declare global num', 'declares global num', 'set global num', 'sets global num', 'create local num', 'creates local num', 'define local num', 'defines local num', 'declare local num', 'declares local num', 'set local num', 'sets local num', 'create num', 'creates num', 'define num', 'defines num', 'declare num', 'declares num', 'set num', 'sets num', 'create global nums', 'creates global nums', 'define global nums', 'defines global nums', 'declare global nums', 'declares global nums', 'set global nums', 'sets global nums', 'create local nums', 'creates local nums', 'define local nums', 'defines local nums', 'declare local nums', 'declares local nums', 'set local nums', 'sets local nums', 'create nums', 'creates nums', 'define nums', 'defines nums', 'declare nums', 'declares nums', 'set nums', 'sets nums', 'create global variable', 'creates global variable', 'define global variable', 'defines global variable', 'declare global variable', 'declares global variable', 'set global variable', 'sets global variable', 'create local variable', 'creates local variable', 'define local variable', 'defines local variable', 'declare local variable', 'declares local variable', 'set local variable', 'sets local variable', 'create variable', 'creates variable', 'define variable', 'defines variable', 'declare variable', 'declares variable', 'set variable', 'sets variable', 'create global variables', 'creates global variables', 'define global variables', 'defines global variables', 'declare global variables', 'declares global variables', 'set global variables', 'sets global variables', 'create local variables', 'creates local variables', 'define local variables', 'defines local variables', 'declare local variables', 'declares local variables', 'set local variables', 'sets local variables', 'create variables', 'creates variables', 'define variables', 'defines variables', 'declare variables', 'declares variables', 'set variables', 'sets variables', 'create global var', 'creates global var', 'define global var', 'defines global var', 'declare global var', 'declares global var', 'set global var', 'sets global var', 'create local var', 'creates local var', 'define local var', 'defines local var', 'declare local var', 'declares local var', 'set local var', 'sets local var', 'create var', 'creates var', 'define var', 'defines var', 'declare var', 'declares var', 'set var', 'sets var', 'create global vars', 'creates global vars', 'define global vars', 'defines global vars', 'declare global vars', 'declares global vars', 'set global vars', 'sets global vars', 'create local vars', 'creates local vars', 'define local vars', 'defines local vars', 'declare local vars', 'declares local vars', 'set local vars', 'sets local vars', 'create vars', 'creates vars', 'define vars', 'defines vars', 'declare vars', 'declares vars', 'set vars', 'sets vars', 'create global double', 'creates global double', 'define global double', 'defines global double', 'declare global double', 'declares global double', 'set global double', 'sets global double', 'create local double', 'creates local double', 'define local double', 'defines local double', 'declare local double', 'declares local double', 'set local double', 'sets local double', 'create double', 'creates double', 'define double', 'defines double', 'declare double', 'declares double', 'set double', 'sets double', 'create global doubles', 'creates global doubles', 'define global doubles', 'defines global doubles', 'declare global doubles', 'declares global doubles', 'set global doubles', 'sets global doubles', 'create local doubles', 'creates local doubles', 'define local doubles', 'defines local doubles', 'declare local doubles', 'declares local doubles', 'set local doubles', 'sets local doubles', 'create doubles', 'creates doubles', 'define doubles', 'defines doubles', 'declare doubles', 'declares doubles', 'set doubles', 'sets doubles', 'create global character', 'creates global character', 'define global character', 'defines global character', 'declare global character', 'declares global character', 'set global character', 'sets global character', 'create local character', 'creates local character', 'define local character', 'defines local character', 'declare local character', 'declares local character', 'set local character', 'sets local character', 'create character', 'creates character', 'define character', 'defines character', 'declare character', 'declares character', 'set character', 'sets character', 'create global characters', 'creates global characters', 'define global characters', 'defines global characters', 'declare global characters', 'declares global characters', 'set global characters', 'sets global characters', 'create local characters', 'creates local characters', 'define local characters', 'defines local characters', 'declare local characters', 'declares local characters', 'set local characters', 'sets local characters', 'create characters', 'creates characters', 'define characters', 'defines characters', 'declare characters', 'declares characters', 'set characters', 'sets characters', 'create global char', 'creates global char', 'define global char', 'defines global char', 'declare global char', 'declares global char', 'set global char', 'sets global char', 'create local char', 'creates local char', 'define local char', 'defines local char', 'declare local char', 'declares local char', 'set local char', 'sets local char', 'create char', 'creates char', 'define char', 'defines char', 'declare char', 'declares char', 'set char', 'sets char', 'create global chars', 'creates global chars', 'define global chars', 'defines global chars', 'declare global chars', 'declares global chars', 'set global chars', 'sets global chars', 'create local chars', 'creates local chars', 'define local chars', 'defines local chars', 'declare local chars', 'declares local chars', 'set local chars', 'sets local chars', 'create chars', 'creates chars', 'define chars', 'defines chars', 'declare chars', 'declares chars', 'set chars', 'sets chars', 'create global string', 'creates global string', 'define global string', 'defines global string', 'declare global string', 'declares global string', 'set global string', 'sets global string', 'create local string', 'creates local string', 'define local string', 'defines local string', 'declare local string', 'declares local string', 'set local string', 'sets local string', 'create string', 'creates string', 'define string', 'defines string', 'declare string', 'declares string', 'set string', 'sets string', 'create global strings', 'creates global strings', 'define global strings', 'defines global strings', 'declare global strings', 'declares global strings', 'set global strings', 'sets global strings', 'create local strings', 'creates local strings', 'define local strings', 'defines local strings', 'declare local strings', 'declares local strings', 'set local strings', 'sets local strings', 'create strings', 'creates strings', 'define strings', 'defines strings', 'declare strings', 'declares strings', 'set strings', 'sets strings', 'create global str', 'creates global str', 'define global str', 'defines global str', 'declare global str', 'declares global str', 'set global str', 'sets global str', 'create local str', 'creates local str', 'define local str', 'defines local str', 'declare local str', 'declares local str', 'set local str', 'sets local str', 'create str', 'creates str', 'define str', 'defines str', 'declare str', 'declares str', 'set str', 'sets str', 'create global strs', 'creates global strs', 'define global strs', 'defines global strs', 'declare global strs', 'declares global strs', 'set global strs', 'sets global strs', 'create local strs', 'creates local strs', 'define local strs', 'defines local strs', 'declare local strs', 'declares local strs', 'set local strs', 'sets local strs', 'create strs', 'creates strs', 'define strs', 'defines strs', 'declare strs', 'declares strs', 'set strs', 'sets strs', 'create global void', 'creates global void', 'define global void', 'defines global void', 'declare global void', 'declares global void', 'set global void', 'sets global void', 'create local void', 'creates local void', 'define local void', 'defines local void', 'declare local void', 'declares local void', 'set local void', 'sets local void', 'create void', 'creates void', 'define void', 'defines void', 'declare void', 'declares void', 'set void', 'sets void', 'create global voids', 'creates global voids', 'define global voids', 'defines global voids', 'declare global voids', 'declares global voids', 'set global voids', 'sets global voids', 'create local voids', 'creates local voids', 'define local voids', 'defines local voids', 'declare local voids', 'declares local voids', 'set local voids', 'sets local voids', 'create voids', 'creates voids', 'define voids', 'defines voids', 'declare voids', 'declares voids', 'set voids', 'sets voids', 'create global array', 'creates global array', 'define global array', 'defines global array', 'declare global array', 'declares global array', 'set global array', 'sets global array', 'create local array', 'creates local array', 'define local array', 'defines local array', 'declare local array', 'declares local array', 'set local array', 'sets local array', 'create array', 'creates array', 'define array', 'defines array', 'declare array', 'declares array', 'set array', 'sets array', 'create global arrays', 'creates global arrays', 'define global arrays', 'defines global arrays', 'declare global arrays', 'declares global arrays', 'set global arrays', 'sets global arrays', 'create local arrays', 'creates local arrays', 'define local arrays', 'defines local arrays', 'declare local arrays', 'declares local arrays', 'set local arrays', 'sets local arrays', 'create arrays', 'creates arrays', 'define arrays', 'defines arrays', 'declare arrays', 'declares arrays', 'set arrays', 'sets arrays', 'create global list', 'creates global list', 'define global list', 'defines global list', 'declare global list', 'declares global list', 'set global list', 'sets global list', 'create local list', 'creates local list', 'define local list', 'defines local list', 'declare local list', 'declares local list', 'set local list', 'sets local list', 'create list', 'creates list', 'define list', 'defines list', 'declare list', 'declares list', 'set list', 'sets list', 'create global lists', 'creates global lists', 'define global lists', 'defines global lists', 'declare global lists', 'declares global lists', 'set global lists', 'sets global lists', 'create local lists', 'creates local lists', 'define local lists', 'defines local lists', 'declare local lists', 'declares local lists', 'set local lists', 'sets local lists', 'create lists', 'creates lists', 'define lists', 'defines lists', 'declare lists', 'declares lists', 'set lists', 'sets lists', 'create global vector', 'creates global vector', 'define global vector', 'defines global vector', 'declare global vector', 'declares global vector', 'set global vector', 'sets global vector', 'create local vector', 'creates local vector', 'define local vector', 'defines local vector', 'declare local vector', 'declares local vector', 'set local vector', 'sets local vector', 'create vector', 'creates vector', 'define vector', 'defines vector', 'declare vector', 'declares vector', 'set vector', 'sets vector', 'create global vectors', 'creates global vectors', 'define global vectors', 'defines global vectors', 'declare global vectors', 'declares global vectors', 'set global vectors', 'sets global vectors', 'create local vectors', 'creates local vectors', 'define local vectors', 'defines local vectors', 'declare local vectors', 'declares local vectors', 'set local vectors', 'sets local vectors', 'create vectors', 'creates vectors', 'define vectors', 'defines vectors', 'declare vectors', 'declares vectors', 'set vectors', 'sets vectors', 'create global class', 'creates global class', 'define global class', 'defines global class', 'declare global class', 'declares global class', 'set global class', 'sets global class', 'create local class', 'creates local class', 'define local class', 'defines local class', 'declare local class', 'declares local class', 'set local class', 'sets local class', 'create class', 'creates class', 'define class', 'defines class', 'declare class', 'declares class', 'set class', 'sets class', 'create global classes', 'creates global classes', 'define global classes', 'defines global classes', 'declare global classes', 'declares global classes', 'set global classes', 'sets global classes', 'create local classes', 'creates local classes', 'define local classes', 'defines local classes', 'declare local classes', 'declares local classes', 'set local classes', 'sets local classes', 'create classes', 'creates classes', 'define classes', 'defines classes', 'declare classes', 'declares classes', 'set classes', 'sets classes']\n",
      "Length: 816\n"
     ]
    }
   ],
   "source": [
    "#Substitute and create dataset\n",
    "generated_data = []\n",
    "\n",
    "for eachLine in input_txt:\n",
    "    print (eachLine)\n",
    "    \n",
    "    temp_gen_data1=[eachLine]\n",
    "    temp_gen_data2 = generate_partial_data (\"DTYPE\", dataType, temp_gen_data1)\n",
    "    \n",
    "    temp_gen_data1=[]\n",
    "    temp_gen_data1= generate_partial_data (\"SCOPE_OFVAR\", scope_of_variable, temp_gen_data2)\n",
    "    \n",
    "    temp_gen_data2=[]\n",
    "    temp_gen_data2 = generate_partial_data (\"OPER\", operators, temp_gen_data1)\n",
    "    \n",
    "    temp_gen_data1=[]\n",
    "    temp_gen_data1= generate_partial_data (\"CMD_DEC\", command_declare, temp_gen_data2)\n",
    "    \n",
    "    temp_gen_data2=[]\n",
    "    temp_gen_data2 = generate_partial_data (\"CMD_PRNT\", command_print, temp_gen_data1)\n",
    "    \n",
    "    temp_gen_data1=[]\n",
    "    temp_gen_data1= generate_partial_data (\"CMD_INPUT\", command_input, temp_gen_data2)\n",
    "    \n",
    "    temp_gen_data2=[]\n",
    "    temp_gen_data2 = generate_partial_data (\"VARI\", variables_list, temp_gen_data1)\n",
    "    ''' \n",
    "    \n",
    "    for each_variable in variables_list:\n",
    "        tmp_txt = eachLine.replace(\"VARI\", each_variable)\n",
    "        generated_data.append( tmp_txt )\n",
    "    '''    \n",
    "        \n",
    "#print (generated_data)\n",
    "#print (temp_gen_data1)\n",
    "print (temp_gen_data2)\n",
    "print (\"Length: \" + str( len(temp_gen_data2) ) )"
   ]
  },
  {
   "cell_type": "code",
   "execution_count": null,
   "metadata": {},
   "outputs": [],
   "source": []
  }
 ],
 "metadata": {
  "kernelspec": {
   "display_name": "Python 3",
   "language": "python",
   "name": "python3"
  },
  "language_info": {
   "codemirror_mode": {
    "name": "ipython",
    "version": 3
   },
   "file_extension": ".py",
   "mimetype": "text/x-python",
   "name": "python",
   "nbconvert_exporter": "python",
   "pygments_lexer": "ipython3",
   "version": "3.8.5"
  }
 },
 "nbformat": 4,
 "nbformat_minor": 4
}
