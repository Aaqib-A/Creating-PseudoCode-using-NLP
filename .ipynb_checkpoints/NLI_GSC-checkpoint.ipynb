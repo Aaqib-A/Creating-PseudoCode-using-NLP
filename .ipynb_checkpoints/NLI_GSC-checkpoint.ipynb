{
 "cells": [
  {
   "cell_type": "code",
   "execution_count": 3,
   "metadata": {},
   "outputs": [],
   "source": [
    "import spacy\n",
    "from spacy import displacy\n",
    "\n",
    "from xml.dom import minidom \n",
    "import xml.etree.ElementTree as ET\n",
    "\n",
    "import os \n",
    "import re\n",
    "\n",
    "from XML_Creator import *\n",
    "from XML_to_Program import *"
   ]
  },
  {
   "cell_type": "code",
   "execution_count": 4,
   "metadata": {},
   "outputs": [],
   "source": [
    "def processStatement():\n",
    "\n",
    "    #combo_value = combo1.get()\n",
    "    #combo_index = combo1.current()\n",
    "    #print(combo_value)\n",
    "    #print(combo_index)\n",
    "    \n",
    "    source = \"Data\"\n",
    "    filename = \"pseudocode.xml\"\n",
    "    pseudocode_file = os.path.join(source, filename)\n",
    "    \n",
    "    #statement = input_box.get(\"1.0\",\"end-1c\")\n",
    "    statement = input_box.get(\"1.0\",tkinter.END)\n",
    "\n",
    "    XML_Creator_func(statement, pseudocode_file)\n",
    "    \n",
    "    filename = \"program.py\"\n",
    "    program_file = os.path.join(source, filename)\n",
    "    \n",
    "    XML_toProgram(pseudocode_file, program_file)\n",
    "    \n",
    "    \n",
    "    with open(program_file) as file:\n",
    "        data = file.read()\n",
    "        \n",
    "        output_box.configure(state='normal')\n",
    "        output_box.delete('1.0', tkinter.END)\n",
    "        output_box.insert ( \"1.0\", data)\n",
    "        output_box.configure(state='disabled')"
   ]
  },
  {
   "cell_type": "code",
   "execution_count": 5,
   "metadata": {},
   "outputs": [],
   "source": [
    "def clickedbt1():\n",
    "    #res = \"Welcome to \" + input_box.get()\n",
    "    #output_box.configure(text = res)\n",
    "\n",
    "    #lb1.configure(text=\"Button was clicked!\")\n",
    "    #lb2 = tkinter.Label(window, text = \"Button was clicked!\").pack()\n",
    "    \n",
    "    with open(\"xml_test.xml\") as file:\n",
    "        data = file.read()\n",
    "        #output_label.configure(text = data)\n",
    "        #output_box.configure(text = data\n",
    "        #output_box.set(data)\n",
    "        output_box.insert(0,data)\n",
    "\n",
    "#nlp = spacy.load(\"./NLP_Object\")"
   ]
  },
  {
   "cell_type": "code",
   "execution_count": 6,
   "metadata": {},
   "outputs": [],
   "source": [
    "import tkinter\n",
    "import tkinter.ttk\n",
    "\n",
    "window  = tkinter.Tk()\n",
    "window.title(\"NLI-GSC: Natural Language Interface for Generating Source Code\")\n",
    "\n",
    "window.geometry(\"1000x300\")\n",
    "\n",
    "combo1 = tkinter.ttk.Combobox(window, state=\"readonly\")\n",
    "combo1['values'] = (\"python\", \"C\", \"\\'Algorithm\\'\")\n",
    "combo1.current(0)\n",
    "\n",
    "instruction_label = tkinter.Label(window, text = \"Please enter your idea in Natural Language\")\n",
    "input_box = tkinter.Text(window, height=10, width=62)\n",
    "output_box = tkinter.Text(window, height=10, width=62, state='disabled')\n",
    "\n",
    "bt1 = tkinter.Button(window, text=\"Enter\", command = processStatement)\n",
    "\n",
    "\n",
    "#combo1.pack()\n",
    "#instruction_label.pack()\n",
    "#input_box.pack()\n",
    "#output_box.pack()\n",
    "#bt1.pack()\n",
    "\n",
    "combo1.grid(row=0,column=1)\n",
    "instruction_label.grid(row=1,column=0)\n",
    "\n",
    "input_box.grid(row=2,column=0)\n",
    "output_box.grid(row=2,column=1)\n",
    "bt1.grid(row=3,column=0)#, colspan=2)\n",
    "\n",
    "\n",
    "window.mainloop()"
   ]
  },
  {
   "cell_type": "code",
   "execution_count": null,
   "metadata": {},
   "outputs": [],
   "source": []
  }
 ],
 "metadata": {
  "kernelspec": {
   "display_name": "Python 3",
   "language": "python",
   "name": "python3"
  },
  "language_info": {
   "codemirror_mode": {
    "name": "ipython",
    "version": 3
   },
   "file_extension": ".py",
   "mimetype": "text/x-python",
   "name": "python",
   "nbconvert_exporter": "python",
   "pygments_lexer": "ipython3",
   "version": "3.8.5"
  }
 },
 "nbformat": 4,
 "nbformat_minor": 4
}
