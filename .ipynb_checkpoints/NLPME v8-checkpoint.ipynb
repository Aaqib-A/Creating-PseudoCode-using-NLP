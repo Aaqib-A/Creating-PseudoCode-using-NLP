{
 "cells": [
  {
   "cell_type": "code",
   "execution_count": 1,
   "metadata": {},
   "outputs": [],
   "source": [
    "#Importing importing Files\n",
    "\n",
    "import re\n",
    "import spacy\n",
    "from spacy.matcher import Matcher\n",
    "nlp = spacy.load(\"en_core_web_lg\")"
   ]
  },
  {
   "cell_type": "code",
   "execution_count": 2,
   "metadata": {},
   "outputs": [],
   "source": [
    "#Reading File Data\n",
    "\n",
    "fileData=[]\n",
    "with open(\"Input_file.txt\", \"r\") as file:\n",
    "    for line in file:\n",
    "        x = re.sub(\"=\", \" = \", line)\n",
    "        x = re.sub(\"  \",\" \", x)   \n",
    "        fileData.append(x)"
   ]
  },
  {
   "cell_type": "code",
   "execution_count": 10,
   "metadata": {
    "scrolled": true
   },
   "outputs": [],
   "source": [
    "#Defining Patterns\n",
    "\n",
    "matcher = Matcher(nlp.vocab)\n",
    "\n",
    "pattern1 = [{\"LOWER\":\"integer\"}]\n",
    "pattern2 = [{\"LOWER\":\"int\"}]\n",
    "pattern3 = [{\"LOWER\":\"float\"}]\n",
    "pattern4 = [{\"LOWER\":\"number\"}]\n",
    "pattern5 = [{\"LOWER\":\"num\"}]\n",
    "pattern6 = [{\"LOWER\":\"variable\"}]\n",
    "pattern7 = [{\"LOWER\":\"var\"}]\n",
    "pattern8 = [{\"LOWER\":\"double\"}]\n",
    "pattern9 = [{\"LOWER\":\"character\"}]\n",
    "pattern10 = [{\"LOWER\":\"char\"}]\n",
    "pattern11 = [{\"LOWER\":\"string\"}]\n",
    "pattern12 = [{\"LOWER\":\"str\"}]\n",
    "pattern13 = [{\"LOWER\":\"void\"}]\n",
    "pattern14 = [{\"LOWER\":\"array\"}]\n",
    "pattern15 = [{\"LOWER\":\"list\"}]\n",
    "pattern16 = [{\"LOWER\":\"vector\"}]\n",
    "pattern17 = [{\"LOWER\":\"class\"}]\n",
    "matcher.add(\"DATATYPE\", None, pattern1, pattern2, pattern3, pattern4, pattern5, pattern6, pattern7, \n",
    "            pattern8, pattern9, pattern10, pattern11, pattern12, pattern13, pattern14, pattern15, \n",
    "            pattern16, pattern17)\n",
    "\n",
    "pattern2_1 = [{\"LOWER\":\"global\"}]\n",
    "pattern2_2 = [{\"LOWER\":\"local\"}]\n",
    "matcher.add(\"SCOPE\", None, pattern2_1, pattern2_2)\n",
    "\n",
    "pattern3_1 = [{\"LOWER\":\"addition\"}]\n",
    "pattern3_2 = [{\"LOWER\":\"add\"}]\n",
    "pattern3_3 = [{\"TEXT\":\"+\"}]\n",
    "pattern3_4 = [{\"LOWER\":\"subtraction\"}]\n",
    "pattern3_5 = [{\"LOWER\":\"sub\"}]\n",
    "pattern3_6 = [{\"TEXT\":\"-\"}]\n",
    "pattern3_7 = [{\"LOWER\":\"minus\"}]\n",
    "pattern3_8 = [{\"LOWER\":\"multiply\"}]\n",
    "pattern3_9 = [{\"LOWER\":\"mul\"}]\n",
    "pattern3_10 = [{\"TEXT\":\"*\"}]\n",
    "pattern3_11 = [{\"LOWER\":\"divide\"}]\n",
    "pattern3_12 = [{\"LOWER\":\"div\"}]\n",
    "pattern3_13 = [{\"TEXT\":\"/\"}]\n",
    "pattern3_14 = [{\"LOWER\":\"modulo\"}]\n",
    "pattern3_15 = [{\"LOWER\":\"modulus\"}]\n",
    "pattern3_16 = [{\"LOWER\":\"mod\"}]\n",
    "pattern3_17 = [{\"TEXT\":\"%\"}]\n",
    "matcher.add(\"OPERATOR\", None, pattern3_1, pattern3_2, pattern3_3, pattern3_4, pattern3_5, pattern3_6, pattern3_7, \n",
    "            pattern3_8, pattern3_9, pattern3_10, pattern3_11, pattern3_12, pattern3_13, pattern3_14, pattern3_15, \n",
    "            pattern3_16, pattern3_17)\n",
    "\n",
    "pattern4_1 = [{\"LOWER\":\"create\"}]\n",
    "pattern4_2 = [{\"LOWER\":\"define\"}]\n",
    "pattern4_3 = [{\"LOWER\":\"declare\"}]\n",
    "pattern4_4 = [{\"LOWER\":\"set\"}]\n",
    "pattern4_5 = [{\"LOWER\":\"print\"}]\n",
    "pattern4_6 = [{\"LOWER\":\"display\"}]\n",
    "pattern4_7 = [{\"LOWER\":\"show\"}]\n",
    "pattern4_8 = [{\"LOWER\":\"get\"}]\n",
    "pattern4_9 = [{\"LOWER\":\"input\"}]\n",
    "pattern4_10 = [{\"LOWER\":\"save\"}]\n",
    "matcher.add(\"COMMAND\", None, pattern4_1, pattern4_2, pattern4_3, pattern4_4, pattern4_5, pattern4_6, pattern4_7, \n",
    "            pattern4_8, pattern4_9, pattern4_10)\n"
   ]
  },
  {
   "cell_type": "code",
   "execution_count": 11,
   "metadata": {
    "scrolled": true
   },
   "outputs": [
    {
     "name": "stdout",
     "output_type": "stream",
     "text": [
      "('define global variable\\n', {'entities': [(0, 6, 'COMMANDS'), (7, 13, 'SCOPE'), (14, 22, 'DATATYPE')]})\n",
      "('create global variable\\n', {'entities': [(0, 6, 'COMMANDS'), (7, 13, 'SCOPE'), (14, 22, 'DATATYPE')]})\n",
      "('define variable\\n', {'entities': [(0, 6, 'COMMANDS'), (7, 15, 'DATATYPE')]})\n",
      "('create variable\\n', {'entities': [(0, 6, 'COMMANDS'), (7, 15, 'DATATYPE')]})\n",
      "('set variable equal to 10\\n', {'entities': [(0, 3, 'COMMANDS'), (4, 12, 'DATATYPE')]})\n",
      "('set variable i = 10\\n', {'entities': [(0, 3, 'COMMANDS'), (4, 12, 'DATATYPE')]})\n",
      "('define variable i\\n', {'entities': [(0, 6, 'COMMANDS'), (7, 15, 'DATATYPE')]})\n",
      "('create variable i\\n', {'entities': [(0, 6, 'COMMANDS'), (7, 15, 'DATATYPE')]})\n",
      "('set variable equal I to 0\\n', {'entities': [(0, 3, 'COMMANDS'), (4, 12, 'DATATYPE')]})\n",
      "('set variable i = 0\\n', {'entities': [(0, 3, 'COMMANDS'), (4, 12, 'DATATYPE')]})\n",
      "('define variable j\\n', {'entities': [(0, 6, 'COMMANDS'), (7, 15, 'DATATYPE')]})\n",
      "('create variable j\\n', {'entities': [(0, 6, 'COMMANDS'), (7, 15, 'DATATYPE')]})\n",
      "('set variable equal j to 0\\n', {'entities': [(0, 3, 'COMMANDS'), (4, 12, 'DATATYPE')]})\n",
      "('set variable j = 0\\n', {'entities': [(0, 3, 'COMMANDS'), (4, 12, 'DATATYPE')]})\n",
      "('set text = \"hi\"\\n', {'entities': [(0, 3, 'COMMANDS')]})\n",
      "('define variable text1\\n', {'entities': [(0, 6, 'COMMANDS'), (7, 15, 'DATATYPE')]})\n",
      "('define variable text1 = \"please enter value\"\\n', {'entities': [(0, 6, 'COMMANDS'), (7, 15, 'DATATYPE')]})\n",
      "('set variable text1 = \"please enter value\"\\n', {'entities': [(0, 3, 'COMMANDS'), (4, 12, 'DATATYPE')]})\n",
      "('set text1 = \"please enter value\"\\n', {'entities': [(0, 3, 'COMMANDS')]})\n",
      "('print text1\\n', {'entities': [(0, 5, 'COMMANDS')]})\n",
      "('print \"please select value\"\\n', {'entities': [(0, 5, 'COMMANDS')]})\n",
      "('print i\\n', {'entities': [(0, 5, 'COMMANDS')]})\n",
      "('print text1 + i\\n', {'entities': [(0, 5, 'COMMANDS'), (12, 13, 'OPERATOR')]})\n",
      "('print \"please select value\" + i\\n', {'entities': [(0, 5, 'COMMANDS'), (28, 29, 'OPERATOR')]})\n",
      "('input text1\\n', {'entities': [(0, 5, 'COMMANDS')]})\n",
      "('input \"please enter name\"\\n', {'entities': [(0, 5, 'COMMANDS')]})\n",
      "('get text1\\n', {'entities': [(0, 3, 'COMMANDS')]})\n",
      "('get \"please enter name\"\\n', {'entities': [(0, 3, 'COMMANDS')]})\n",
      "('print a on screen\\n', {'entities': [(0, 5, 'COMMANDS')]})\n",
      "('print b\\n', {'entities': [(0, 5, 'COMMANDS')]})\n",
      "('show a\\n', {'entities': [(0, 4, 'COMMANDS')]})\n",
      "('show b on screen\\n', {'entities': [(0, 4, 'COMMANDS')]})\n",
      "('print a to log\\n', {'entities': [(0, 5, 'COMMANDS')]})\n",
      "('print b to log\\n', {'entities': [(0, 5, 'COMMANDS')]})\n",
      "('print a to printer\\n', {'entities': [(0, 5, 'COMMANDS')]})\n",
      "('print b to printer\\n', {'entities': [(0, 5, 'COMMANDS')]})\n",
      "('save name\\n', {'entities': [(0, 4, 'COMMANDS')]})\n",
      "('save name and address\\n', {'entities': [(0, 4, 'COMMANDS')]})\n",
      "('save name to database\\n', {'entities': [(0, 4, 'COMMANDS')]})\n",
      "('save name and address to database\\n', {'entities': [(0, 4, 'COMMANDS')]})\n",
      "('save name to file\\n', {'entities': [(0, 4, 'COMMANDS')]})\n",
      "('save name and address to file', {'entities': [(0, 4, 'COMMANDS')]})\n"
     ]
    }
   ],
   "source": [
    "#Creating Training Data\n",
    "\n",
    "TRAINING_DATA = []\n",
    "\n",
    "# Create a Doc object for each text in TEXTS\n",
    "for doc in nlp.pipe(fileData):\n",
    "    \n",
    "    #x = re.sub(\"=\", \" = \", doc)\n",
    "    #doc = re.sub(\"  \",\" \", x)\n",
    "    \n",
    "    # Match on the doc and create a list of matched spans\n",
    "    spans = [doc[start:end] for match_id, start, end in matcher(doc)]\n",
    "    \n",
    "    #Modified Start\n",
    "    entity_label=[]\n",
    "    entity_label = [(nlp.vocab.strings[match_id]) for match_id, start, end in matcher(doc)]\n",
    "    #if entity_label!=[]:\n",
    "    #    print (entity_label)\n",
    "    entities = [(span.start_char, span.end_char, entity_label[index]) for index,span in enumerate(spans)]\n",
    "    \n",
    "    #for eachWord in entities:\n",
    "    #    print(\"Entities: {}\".format(eachWord))\n",
    "    \n",
    "    # Format the matches as a (doc.text, entities) tuple\n",
    "    training_example = (doc.text, {\"entities\": entities})\n",
    "    \n",
    "    # Append the example to the training data\n",
    "    TRAINING_DATA.append(training_example)\n",
    "    #Modified End\n",
    "    \n",
    "    '''\n",
    "    entities = [(span.start_char, span.end_char, \"INITIALIZATION\") for span in spans]\n",
    "    \n",
    "    for eachWord in entities:\n",
    "        print(\"Entities: {}\".format(eachWord))\n",
    "        \n",
    "    # Format the matches as a (doc.text, entities) tuple\n",
    "    training_example = (doc.text, {\"entities\": entities})\n",
    "    # Append the example to the training data\n",
    "    TRAINING_DATA.append(training_example)\n",
    "    '''\n",
    "    \n",
    "\n",
    "print(*TRAINING_DATA, sep=\"\\n\")"
   ]
  },
  {
   "cell_type": "code",
   "execution_count": 13,
   "metadata": {},
   "outputs": [
    {
     "name": "stdout",
     "output_type": "stream",
     "text": [
      "{'ner': 96.4166332052555}\n",
      "{'ner': 7.278612663180299}\n",
      "{'ner': 4.868845357726792}\n",
      "{'ner': 3.346660441523001}\n",
      "{'ner': 0.5131158774712011}\n",
      "{'ner': 0.00011286879487607374}\n",
      "{'ner': 3.6858010484585437e-06}\n",
      "{'ner': 5.023766199586754e-07}\n",
      "{'ner': 2.8010813479029994e-07}\n",
      "{'ner': 1.4235071653212807e-07}\n"
     ]
    }
   ],
   "source": [
    "#Training Loop\n",
    "\n",
    "import random\n",
    "\n",
    "nlp = spacy.blank(\"en\")\n",
    "ner = nlp.create_pipe(\"ner\")\n",
    "nlp.add_pipe(ner)\n",
    "\n",
    "ner.add_label(\"DATATYPE\")\n",
    "ner.add_label(\"SCOPE\")\n",
    "ner.add_label(\"OPERATOR\")\n",
    "ner.add_label(\"COMMAND\")\n",
    "\n",
    "# Start the training\n",
    "nlp.begin_training()\n",
    "\n",
    "# Loop for 10 iterations\n",
    "for itn in range(10):\n",
    "    # Shuffle the training data\n",
    "    random.shuffle(TRAINING_DATA)\n",
    "    losses = {}\n",
    "\n",
    "    # Batch the examples and iterate over them\n",
    "    for batch in spacy.util.minibatch(TRAINING_DATA, size=2):\n",
    "        texts = [text for text, entities in batch]\n",
    "        annotations = [entities for text, entities in batch]\n",
    "\n",
    "        # Update the model\n",
    "        nlp.update(texts, annotations, losses=losses)\n",
    "    print(losses)"
   ]
  },
  {
   "cell_type": "code",
   "execution_count": 15,
   "metadata": {},
   "outputs": [
    {
     "name": "stdout",
     "output_type": "stream",
     "text": [
      "Print 0 5 COMMANDS\n",
      "variable 6 14 DATATYPE\n"
     ]
    },
    {
     "data": {
      "text/html": [
       "<span class=\"tex2jax_ignore\"><div class=\"entities\" style=\"line-height: 2.5; direction: ltr\">\n",
       "<mark class=\"entity\" style=\"background: #ddd; padding: 0.45em 0.6em; margin: 0 0.25em; line-height: 1; border-radius: 0.35em;\">\n",
       "    Print\n",
       "    <span style=\"font-size: 0.8em; font-weight: bold; line-height: 1; border-radius: 0.35em; text-transform: uppercase; vertical-align: middle; margin-left: 0.5rem\">COMMANDS</span>\n",
       "</mark>\n",
       " \n",
       "<mark class=\"entity\" style=\"background: #ddd; padding: 0.45em 0.6em; margin: 0 0.25em; line-height: 1; border-radius: 0.35em;\">\n",
       "    variable\n",
       "    <span style=\"font-size: 0.8em; font-weight: bold; line-height: 1; border-radius: 0.35em; text-transform: uppercase; vertical-align: middle; margin-left: 0.5rem\">DATATYPE</span>\n",
       "</mark>\n",
       " i to screen</div></span>"
      ],
      "text/plain": [
       "<IPython.core.display.HTML object>"
      ]
     },
     "metadata": {},
     "output_type": "display_data"
    }
   ],
   "source": [
    "from spacy import displacy\n",
    "\n",
    "doc = nlp(\"Print variable i to screen\")\n",
    "for ent in doc.ents:\n",
    "    print (ent.text, ent.start_char, ent.end_char, ent.label_)\n",
    "\n",
    "displacy.render(nlp(doc.text), style=\"ent\", jupyter=True)"
   ]
  },
  {
   "cell_type": "code",
   "execution_count": 23,
   "metadata": {},
   "outputs": [
    {
     "name": "stdout",
     "output_type": "stream",
     "text": [
      "add 0 3 COMMANDS\n"
     ]
    },
    {
     "data": {
      "text/html": [
       "<span class=\"tex2jax_ignore\"><div class=\"entities\" style=\"line-height: 2.5; direction: ltr\">\n",
       "<mark class=\"entity\" style=\"background: #ddd; padding: 0.45em 0.6em; margin: 0 0.25em; line-height: 1; border-radius: 0.35em;\">\n",
       "    add\n",
       "    <span style=\"font-size: 0.8em; font-weight: bold; line-height: 1; border-radius: 0.35em; text-transform: uppercase; vertical-align: middle; margin-left: 0.5rem\">COMMANDS</span>\n",
       "</mark>\n",
       " numbers a and b</div></span>"
      ],
      "text/plain": [
       "<IPython.core.display.HTML object>"
      ]
     },
     "metadata": {},
     "output_type": "display_data"
    }
   ],
   "source": [
    "doc = nlp(\"add numbers a and b\")\n",
    "for ent in doc.ents:\n",
    "    print (ent.text, ent.start_char, ent.end_char, ent.label_)\n",
    "\n",
    "displacy.render(nlp(doc.text), style=\"ent\", jupyter=True)"
   ]
  },
  {
   "cell_type": "code",
   "execution_count": null,
   "metadata": {},
   "outputs": [],
   "source": []
  }
 ],
 "metadata": {
  "kernelspec": {
   "display_name": "Python 3",
   "language": "python",
   "name": "python3"
  },
  "language_info": {
   "codemirror_mode": {
    "name": "ipython",
    "version": 3
   },
   "file_extension": ".py",
   "mimetype": "text/x-python",
   "name": "python",
   "nbconvert_exporter": "python",
   "pygments_lexer": "ipython3",
   "version": "3.8.5"
  }
 },
 "nbformat": 4,
 "nbformat_minor": 4
}
