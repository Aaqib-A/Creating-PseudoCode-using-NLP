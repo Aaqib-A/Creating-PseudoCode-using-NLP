{
 "cells": [
  {
   "cell_type": "code",
   "execution_count": 33,
   "metadata": {},
   "outputs": [],
   "source": [
    "#testing Function\n",
    "import spacy\n",
    "from spacy import displacy\n",
    "\n",
    "nlp = spacy.load(\"./NLP_Object\")\n",
    "\n",
    "def entity_display(statement):\n",
    "    doc = nlp(statement) \n",
    "    for ent in doc.ents:\n",
    "        print (ent.text, ent.start_char, ent.end_char, ent.label_)\n",
    "\n",
    "    displacy.render(nlp(doc.text), style=\"ent\", jupyter=True)"
   ]
  },
  {
   "cell_type": "code",
   "execution_count": 61,
   "metadata": {},
   "outputs": [],
   "source": [
    "import spacy\n",
    "from spacy import displacy\n",
    "\n",
    "nlp = spacy.load(\"./NLP_Object\")\n",
    "\n",
    "def entity_identify(statement):\n",
    "    doc = nlp(statement) \n",
    "    \n",
    "    ent_text=[]\n",
    "    ent_label=[]\n",
    "    for ent in doc.ents:\n",
    "        #print (ent.text, ent.start_char, ent.end_char, ent.label_)\n",
    "        ent_text.append(ent.text)\n",
    "        ent_label.append(ent.label_)\n",
    "        \n",
    "    return (ent_text,ent_label)"
   ]
  },
  {
   "cell_type": "code",
   "execution_count": 70,
   "metadata": {},
   "outputs": [
    {
     "name": "stdout",
     "output_type": "stream",
     "text": [
      "create 0 6 COMMAND\n",
      "function 9 17 FUNC_PROG\n",
      "add 21 24 OPERATOR\n",
      "numbers 25 32 DATATYPE\n",
      "a 33 34 VARI\n",
      "b 39 40 VARI\n"
     ]
    },
    {
     "data": {
      "text/html": [
       "<span class=\"tex2jax_ignore\"><div class=\"entities\" style=\"line-height: 2.5; direction: ltr\">\n",
       "<mark class=\"entity\" style=\"background: #ddd; padding: 0.45em 0.6em; margin: 0 0.25em; line-height: 1; border-radius: 0.35em;\">\n",
       "    create\n",
       "    <span style=\"font-size: 0.8em; font-weight: bold; line-height: 1; border-radius: 0.35em; text-transform: uppercase; vertical-align: middle; margin-left: 0.5rem\">COMMAND</span>\n",
       "</mark>\n",
       " a \n",
       "<mark class=\"entity\" style=\"background: #ddd; padding: 0.45em 0.6em; margin: 0 0.25em; line-height: 1; border-radius: 0.35em;\">\n",
       "    function\n",
       "    <span style=\"font-size: 0.8em; font-weight: bold; line-height: 1; border-radius: 0.35em; text-transform: uppercase; vertical-align: middle; margin-left: 0.5rem\">FUNC_PROG</span>\n",
       "</mark>\n",
       " to \n",
       "<mark class=\"entity\" style=\"background: #ddd; padding: 0.45em 0.6em; margin: 0 0.25em; line-height: 1; border-radius: 0.35em;\">\n",
       "    add\n",
       "    <span style=\"font-size: 0.8em; font-weight: bold; line-height: 1; border-radius: 0.35em; text-transform: uppercase; vertical-align: middle; margin-left: 0.5rem\">OPERATOR</span>\n",
       "</mark>\n",
       " \n",
       "<mark class=\"entity\" style=\"background: #ddd; padding: 0.45em 0.6em; margin: 0 0.25em; line-height: 1; border-radius: 0.35em;\">\n",
       "    numbers\n",
       "    <span style=\"font-size: 0.8em; font-weight: bold; line-height: 1; border-radius: 0.35em; text-transform: uppercase; vertical-align: middle; margin-left: 0.5rem\">DATATYPE</span>\n",
       "</mark>\n",
       " \n",
       "<mark class=\"entity\" style=\"background: #ddd; padding: 0.45em 0.6em; margin: 0 0.25em; line-height: 1; border-radius: 0.35em;\">\n",
       "    a\n",
       "    <span style=\"font-size: 0.8em; font-weight: bold; line-height: 1; border-radius: 0.35em; text-transform: uppercase; vertical-align: middle; margin-left: 0.5rem\">VARI</span>\n",
       "</mark>\n",
       " and \n",
       "<mark class=\"entity\" style=\"background: #ddd; padding: 0.45em 0.6em; margin: 0 0.25em; line-height: 1; border-radius: 0.35em;\">\n",
       "    b\n",
       "    <span style=\"font-size: 0.8em; font-weight: bold; line-height: 1; border-radius: 0.35em; text-transform: uppercase; vertical-align: middle; margin-left: 0.5rem\">VARI</span>\n",
       "</mark>\n",
       "</div></span>"
      ],
      "text/plain": [
       "<IPython.core.display.HTML object>"
      ]
     },
     "metadata": {},
     "output_type": "display_data"
    }
   ],
   "source": [
    "doc =\"create a function to add numbers a and b\"\n",
    "#doc = \"save name and address\"\n",
    "#doc = \"if a > b then add a and b\"\n",
    "#doc = \"get input k\"\n",
    "#doc = \"if a>b then print a. If b>c then print c\"\n",
    "\n",
    "#print(entity_identify(doc))\n",
    "entity_display(doc)"
   ]
  },
  {
   "cell_type": "code",
   "execution_count": 54,
   "metadata": {},
   "outputs": [],
   "source": [
    "#Reference Material\n",
    "'''\n",
    "from xml.dom import minidom \n",
    "import os  \n",
    "\n",
    "root = minidom.Document() \n",
    "  \n",
    "xml = root.createElement('root')  \n",
    "root.appendChild(xml) \n",
    "  \n",
    "productChild = root.createElement('product') \n",
    "productChild.setAttribute('name', 'Geeks for Geeks') \n",
    "  \n",
    "xml.appendChild(productChild) \n",
    "  \n",
    "xml_str = root.toprettyxml(indent =\"\\t\")  \n",
    "  \n",
    "save_path_file = \"gfg.xml\"\n",
    "  \n",
    "with open(save_path_file, \"w\") as f: \n",
    "    f.write(xml_str)  \n",
    "'''"
   ]
  },
  {
   "cell_type": "code",
   "execution_count": 77,
   "metadata": {},
   "outputs": [
    {
     "name": "stdout",
     "output_type": "stream",
     "text": [
      "create 0 6 COMMAND\n",
      "function 9 17 FUNC_PROG\n",
      "add 21 24 OPERATOR\n",
      "numbers 25 32 DATATYPE\n",
      "a 33 34 VARI\n",
      "b 39 40 VARI\n"
     ]
    },
    {
     "data": {
      "text/html": [
       "<span class=\"tex2jax_ignore\"><div class=\"entities\" style=\"line-height: 2.5; direction: ltr\">\n",
       "<mark class=\"entity\" style=\"background: #ddd; padding: 0.45em 0.6em; margin: 0 0.25em; line-height: 1; border-radius: 0.35em;\">\n",
       "    create\n",
       "    <span style=\"font-size: 0.8em; font-weight: bold; line-height: 1; border-radius: 0.35em; text-transform: uppercase; vertical-align: middle; margin-left: 0.5rem\">COMMAND</span>\n",
       "</mark>\n",
       " a \n",
       "<mark class=\"entity\" style=\"background: #ddd; padding: 0.45em 0.6em; margin: 0 0.25em; line-height: 1; border-radius: 0.35em;\">\n",
       "    function\n",
       "    <span style=\"font-size: 0.8em; font-weight: bold; line-height: 1; border-radius: 0.35em; text-transform: uppercase; vertical-align: middle; margin-left: 0.5rem\">FUNC_PROG</span>\n",
       "</mark>\n",
       " to \n",
       "<mark class=\"entity\" style=\"background: #ddd; padding: 0.45em 0.6em; margin: 0 0.25em; line-height: 1; border-radius: 0.35em;\">\n",
       "    add\n",
       "    <span style=\"font-size: 0.8em; font-weight: bold; line-height: 1; border-radius: 0.35em; text-transform: uppercase; vertical-align: middle; margin-left: 0.5rem\">OPERATOR</span>\n",
       "</mark>\n",
       " \n",
       "<mark class=\"entity\" style=\"background: #ddd; padding: 0.45em 0.6em; margin: 0 0.25em; line-height: 1; border-radius: 0.35em;\">\n",
       "    numbers\n",
       "    <span style=\"font-size: 0.8em; font-weight: bold; line-height: 1; border-radius: 0.35em; text-transform: uppercase; vertical-align: middle; margin-left: 0.5rem\">DATATYPE</span>\n",
       "</mark>\n",
       " \n",
       "<mark class=\"entity\" style=\"background: #ddd; padding: 0.45em 0.6em; margin: 0 0.25em; line-height: 1; border-radius: 0.35em;\">\n",
       "    a\n",
       "    <span style=\"font-size: 0.8em; font-weight: bold; line-height: 1; border-radius: 0.35em; text-transform: uppercase; vertical-align: middle; margin-left: 0.5rem\">VARI</span>\n",
       "</mark>\n",
       " and \n",
       "<mark class=\"entity\" style=\"background: #ddd; padding: 0.45em 0.6em; margin: 0 0.25em; line-height: 1; border-radius: 0.35em;\">\n",
       "    b\n",
       "    <span style=\"font-size: 0.8em; font-weight: bold; line-height: 1; border-radius: 0.35em; text-transform: uppercase; vertical-align: middle; margin-left: 0.5rem\">VARI</span>\n",
       "</mark>\n",
       "</div></span>"
      ],
      "text/plain": [
       "<IPython.core.display.HTML object>"
      ]
     },
     "metadata": {},
     "output_type": "display_data"
    }
   ],
   "source": [
    "from xml.dom import minidom \n",
    "import os \n",
    "\n",
    "root = minidom.Document() \n",
    "xml = root.createElement('root')  \n",
    "root.appendChild(xml) \n",
    "#-------------------\n",
    "\n",
    "statement = \"create a function to add numbers a and b\"\n",
    "ent_text, ent_label = entity_identify(statement)\n",
    "entity_display(statement)\n",
    "#print(ent_text ,\" \", ent_label)\n",
    "\n",
    "#=== Basics ===#\n",
    "'''\n",
    "productChild = root.createElement('product') \n",
    "productChild.setAttribute('name', 'Geeks for Geeks') \n",
    "  \n",
    "xml.appendChild(productChild)\n",
    "'''\n",
    "#=== Basics ===#\n",
    "\n",
    "#Prog - Start\n",
    "prog = root.createElement('program') #\n",
    "if \"FUNC_PROG\" in ent_label:\n",
    "    index = ent_label.index(\"FUNC_PROG\")\n",
    "    #type_of_prog_type = ent_text[index]\n",
    "    \n",
    "    prog.setAttribute('type', ent_text[index]) #\n",
    "    \n",
    "else:\n",
    "    prog.setAttribute('type', \"program\") #\n",
    "    \n",
    "prog.setAttribute('name', \"test\") #\n",
    "xml.appendChild(prog)  #\n",
    "#Prog - End\n",
    "\n",
    "#Variables - Start\n",
    "variables_list = root.createElement('variables') \n",
    "prog.appendChild(variables_list) \n",
    "\n",
    "for index in range(len(ent_text)):\n",
    "    if ent_label[index]== \"VARI\":\n",
    "        productChild = root.createElement('variable') \n",
    "        productChild.setAttribute('name', ent_text[index]) \n",
    "        productChild.setAttribute('datatype', \"any\") \n",
    "        productChild.setAttribute('scope', \"NA\") \n",
    "        productChild.setAttribute('value', \"NA\") \n",
    "        variables_list.appendChild(productChild) \n",
    "        \n",
    "#Variables - End\n",
    "\n",
    "for index in range(len(ent_text)):\n",
    "    if ent_label[index]== \"COMMAND\":\n",
    "        productChild = root.createElement('command') \n",
    "        productChild.setAttribute('name', ent_text[index]) \n",
    "        prog.appendChild(productChild) \n",
    "    \n",
    "    if ent_label[index]== \"OPERATOR\":\n",
    "        productChild = root.createElement('operation') \n",
    "        productChild.setAttribute('name', ent_text[index]) \n",
    "        prog.appendChild(productChild) \n",
    "       \n",
    "    '''\n",
    "    if ent_label[index]== \"VARI\":\n",
    "        productChild = root.createElement('variable') \n",
    "        productChild.setAttribute('name', ent_text[index]) \n",
    "        prog.appendChild(productChild) \n",
    "    '''      \n",
    "    \n",
    "\n",
    "#-------------------\n",
    "xml_str = root.toprettyxml(indent =\"\\t\")  \n",
    "\n",
    "save_path_file = \"xml_test.xml\"  \n",
    "with open(save_path_file, \"w\") as f: \n",
    "    f.write(xml_str)  "
   ]
  },
  {
   "cell_type": "code",
   "execution_count": null,
   "metadata": {},
   "outputs": [],
   "source": []
  }
 ],
 "metadata": {
  "kernelspec": {
   "display_name": "Python 3",
   "language": "python",
   "name": "python3"
  },
  "language_info": {
   "codemirror_mode": {
    "name": "ipython",
    "version": 3
   },
   "file_extension": ".py",
   "mimetype": "text/x-python",
   "name": "python",
   "nbconvert_exporter": "python",
   "pygments_lexer": "ipython3",
   "version": "3.8.5"
  }
 },
 "nbformat": 4,
 "nbformat_minor": 4
}
