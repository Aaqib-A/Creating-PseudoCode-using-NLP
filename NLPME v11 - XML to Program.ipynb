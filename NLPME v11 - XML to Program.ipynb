{
 "cells": [
  {
   "cell_type": "code",
   "execution_count": 23,
   "metadata": {
    "scrolled": true
   },
   "outputs": [],
   "source": [
    "import xml.etree.ElementTree as ET\n",
    "tree = ET.parse('xml_test.xml')\n",
    "root = tree.getroot()"
   ]
  },
  {
   "cell_type": "code",
   "execution_count": 24,
   "metadata": {},
   "outputs": [
    {
     "name": "stdout",
     "output_type": "stream",
     "text": [
      "root\n",
      "{}\n",
      "variables\n"
     ]
    }
   ],
   "source": [
    "print(root.tag)\n",
    "\n",
    "print(root.attrib)\n",
    "print(root[1][0].tag)"
   ]
  },
  {
   "cell_type": "code",
   "execution_count": 71,
   "metadata": {
    "scrolled": false
   },
   "outputs": [
    {
     "name": "stdout",
     "output_type": "stream",
     "text": [
      "{'name': 'a', 'datatype': 'number'}\n",
      "{'name': 'num_1', 'scope': 'local', 'datatype': 'number', 'value': '15'}\n",
      "{'name': 'b', 'datatype': 'number'}\n"
     ]
    }
   ],
   "source": [
    "for variable in root.iter('variable'):\n",
    "    print(variable.attrib)"
   ]
  },
  {
   "cell_type": "code",
   "execution_count": 57,
   "metadata": {
    "scrolled": false
   },
   "outputs": [
    {
     "name": "stdout",
     "output_type": "stream",
     "text": [
      "statement\n",
      "{'value': 'create a function to add a and local number num_1 = 15 and b'}\n",
      "program\n",
      "{'type': 'function', 'name': 'create_function'}\n",
      "\n",
      "variables\n",
      "{}\n",
      "add\n",
      "{'variable1': 'a', 'variable2': 'num_1', 'variable3': 'b'}\n",
      "\n",
      "variable\n",
      "{'name': 'a', 'datatype': 'number'}\n"
     ]
    }
   ],
   "source": [
    "print(root[0].tag) \n",
    "print(root[0].attrib) \n",
    "print(root[1].tag)\n",
    "print(root[1].attrib) \n",
    "\n",
    "print(\"\")\n",
    "#print(root[0][0].tag)  \n",
    "#print(root[0][1].tag)  \n",
    "print(root[1][0].tag)\n",
    "print(root[1][0].attrib)\n",
    "print(root[1][1].tag)\n",
    "print(root[1][1].attrib)\n",
    "\n",
    "#print(root[1][2].tag)\n",
    "\n",
    "print(\"\")\n",
    "print(root[1][0][0].tag)\n",
    "print(root[1][0][0].attrib)"
   ]
  },
  {
   "cell_type": "code",
   "execution_count": 74,
   "metadata": {},
   "outputs": [
    {
     "name": "stdout",
     "output_type": "stream",
     "text": [
      "statement {'value': 'create a function to add a and local number num_1 = 15 and b'}\n",
      "program {'type': 'function', 'name': 'create_function'}\n",
      "\n",
      "variables {}\n",
      "add {'variable1': 'a', 'variable2': 'num_1', 'variable3': 'b'}\n",
      "\n",
      "variable {'name': 'a', 'datatype': 'number'}\n",
      "variable {'name': 'num_1', 'scope': 'local', 'datatype': 'number', 'value': '15'}\n",
      "variable {'name': 'b', 'datatype': 'number'}\n"
     ]
    }
   ],
   "source": [
    "for child in root:\n",
    "    print(child.tag ,child.attrib)\n",
    "    \n",
    "print()\n",
    "for child in root[1]:\n",
    "    print(child.tag, child.attrib)\n",
    "\n",
    "print()\n",
    "for child in root[1][0]:\n",
    "    print(child.tag, child.attrib)"
   ]
  },
  {
   "cell_type": "code",
   "execution_count": null,
   "metadata": {},
   "outputs": [],
   "source": []
  }
 ],
 "metadata": {
  "kernelspec": {
   "display_name": "Python 3",
   "language": "python",
   "name": "python3"
  },
  "language_info": {
   "codemirror_mode": {
    "name": "ipython",
    "version": 3
   },
   "file_extension": ".py",
   "mimetype": "text/x-python",
   "name": "python",
   "nbconvert_exporter": "python",
   "pygments_lexer": "ipython3",
   "version": "3.8.5"
  }
 },
 "nbformat": 4,
 "nbformat_minor": 4
}
