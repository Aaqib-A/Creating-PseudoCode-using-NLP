{
 "cells": [
  {
   "cell_type": "code",
   "execution_count": 116,
   "metadata": {},
   "outputs": [],
   "source": [
    "#Rus first time to imporrt all files\n",
    "import nltk\n",
    "#nltk.download('all')"
   ]
  },
  {
   "cell_type": "code",
   "execution_count": 122,
   "metadata": {},
   "outputs": [
    {
     "name": "stdout",
     "output_type": "stream",
     "text": [
      "[\"define Variable a and 'b'\", 'Add variables a from b', 'Subtract variables b from a', 'create a for loop and multiply a 5 times']\n",
      "['define', 'Variable', 'a', 'and', \"'b'\"]\n",
      "['Add', 'variables', 'a', 'from', 'b']\n",
      "['Subtract', 'variables', 'b', 'from', 'a']\n",
      "['create', 'a', 'for', 'loop', 'and', 'multiply', 'a', '5', 'times']\n"
     ]
    }
   ],
   "source": [
    "#Tokenize\n",
    "\n",
    "from nltk import word_tokenize \n",
    "from nltk.tokenize import sent_tokenize, word_tokenize \n",
    "\n",
    "import re\n",
    "\n",
    "def tokenize1(statement1):   \n",
    "    return (word_tokenize(statement1))\n",
    "    '''\n",
    "    # instantiate tokenizer class\n",
    "    tokenizer = TweetTokenizer(preserve_case=False, strip_handles=True,\n",
    "                                   reduce_len=True)\n",
    "    # tokenize tweets\n",
    "    tweet_tokens = tokenizer.tokenize(statement)\n",
    "    return tweet_tokens'''\n",
    "    \n",
    "def tokenizer_custom_line(statement):\n",
    "    tokenize_statment = []\n",
    "    #tokenize_statment = re.findall(r'[(\\w )]* ',statement)\n",
    "    tokenize_statment = re.split(r\"\\. |\\, \", statement)\n",
    "    #print (tokenize_statment)\n",
    "    return (tokenize_statment)\n",
    "\n",
    "def tokenizer_custom_words(statement):\n",
    "    tokenize_statement = []\n",
    "    tokenize_statment = re.split(r\" \", statement)\n",
    "    return(tokenize_statment)\n",
    "\n",
    "'''\n",
    "#Testing\n",
    "custom_statement_raw = \"define Variable a and 'b'. Add variables a from b, Subtract variables b from a, create a for loop and multiply a 5 times\"\n",
    "cust_statement1 = tokenizer_custom_line(custom_statement_raw)\n",
    "print(cust_statement1)\n",
    "for each_line in cust_statement1:\n",
    "    print (tokenizer_custom_words(each_line))\n",
    "'''"
   ]
  },
  {
   "cell_type": "code",
   "execution_count": 123,
   "metadata": {},
   "outputs": [],
   "source": [
    "#Stemming\n",
    "from nltk.stem import PorterStemmer\n",
    "\n",
    "def stemming_list(statement1):\n",
    "    # Instantiate stemming class\n",
    "    stemmer = PorterStemmer() \n",
    "\n",
    "    # Create an empty list to store the stems\n",
    "    sentence_stem = [] \n",
    "\n",
    "    for word in statement1:\n",
    "        stem_word = stemmer.stem(word)  # stemming word\n",
    "        sentence_stem.append(stem_word)  # append to the list\n",
    "\n",
    "    return(sentence_stem)\n",
    "\n",
    "def stemming_dict(dicti):\n",
    "    stemmer = PorterStemmer()\n",
    "    \n",
    "    sentence_stem={}\n",
    "    for word, value in dicti.items():\n",
    "        stem_word = stemmer.stem(word)\n",
    "        sentence_stem[stem_word] = value\n",
    "    return sentence_stem"
   ]
  },
  {
   "cell_type": "code",
   "execution_count": 124,
   "metadata": {},
   "outputs": [],
   "source": [
    "raw_datatypes = {\"integer\":\"int\", \"int\":\"int\",\n",
    "                 \"float\":\"float\", \"number\":\"float\", \"num\":\"float\",\n",
    "                 \"double\":\"double\",\n",
    "                 \"boolean\":\"bool\", \"bool\":\"bool\",\n",
    "                 \"character\":\"char\", \"char\":\"char\",\n",
    "                 \"string\":\"str\", \"str\":\"str\",\n",
    "                 \"void\":\"void\",\n",
    "                 \"array\":\"array\", \"arr\":\"array\", \"list\":\"array\", \"vector\":\"array\"}\n",
    "\n",
    "datatypes = stemming_dict(datatypes)\n",
    "#print(datatypes)\n",
    "#print(datatypes.get('doubl',0))\n",
    "\n",
    "raw_operators = {\"add\":\"+\", \"addition\":\"+\", \"+\":\"+\",\n",
    "                 \"sub\":\"-\", \"subtract\":\"-\", \"subtraction\":\"-\", \"-\":\"-\", \"minus\":\"-\",\n",
    "                 \"mul\":\"*\", \"multiply\":\"*\", \"*\":\"*\",\n",
    "                 \"divide\":\"/\",\"div\":\"/\", \"/\":\"/\",\n",
    "                 \"mod\":\"%\", \"modulo\":\"%\", \"%\":\"%\"}\n",
    "\n",
    "operators = stemming_dict(raw_operators)\n",
    "#print(operators)\n",
    "\n"
   ]
  },
  {
   "cell_type": "code",
   "execution_count": 137,
   "metadata": {},
   "outputs": [
    {
     "name": "stdout",
     "output_type": "stream",
     "text": [
      "define Variable a and 'b'. Add variables a from b, Subtract variables b from a, create a for loop and multiply a 5 times\n",
      "\n",
      "After Tokenizer:\n",
      "[['define', 'variable', 'a', 'and', \"'b'\"], ['add', 'variables', 'a', 'from', 'b'], ['subtract', 'variables', 'b', 'from', 'a'], ['create', 'a', 'for', 'loop', 'and', 'multiply', 'a', '5', 'times']]\n",
      "\n",
      "After Porter Stemming:\n",
      "[['defin', 'variabl', 'a', 'and', \"'b'\"], ['add', 'variabl', 'a', 'from', 'b'], ['subtract', 'variabl', 'b', 'from', 'a'], ['creat', 'a', 'for', 'loop', 'and', 'multipli', 'a', '5', 'time']]\n"
     ]
    }
   ],
   "source": [
    "#Main\n",
    "\n",
    "custom_statement_raw = \"define Variable a and 'b'. Add variables a from b, Subtract variables b from a, create a for loop and multiply a 5 times\"\n",
    "print(custom_statement_raw)\n",
    "\n",
    "modified_statement = custom_statement_raw.lower()\n",
    "\n",
    "modified_statement = tokenizer_custom_line(modified_statement)  \n",
    "modified_statement2 = []\n",
    "for each_line in modified_statement:\n",
    "    modified_statement2.append(tokenizer_custom_words(each_line))\n",
    "print(\"\\nAfter Tokenizer:\")\n",
    "print(modified_statement2)\n",
    "                               \n",
    "#modified_statement = stemming_list(modified_statement)\n",
    "print(\"\\nAfter Porter Stemming:\")\n",
    "#print(modified_statement)\n",
    "\n",
    "modified_statement3 = []\n",
    "for each_line in modified_statement2:\n",
    "    modified_statement3.append(stemming_list(each_line))\n",
    "print(modified_statement3)"
   ]
  },
  {
   "cell_type": "code",
   "execution_count": null,
   "metadata": {},
   "outputs": [],
   "source": []
  }
 ],
 "metadata": {
  "kernelspec": {
   "display_name": "Python 3",
   "language": "python",
   "name": "python3"
  },
  "language_info": {
   "codemirror_mode": {
    "name": "ipython",
    "version": 3
   },
   "file_extension": ".py",
   "mimetype": "text/x-python",
   "name": "python",
   "nbconvert_exporter": "python",
   "pygments_lexer": "ipython3",
   "version": "3.7.7"
  }
 },
 "nbformat": 4,
 "nbformat_minor": 4
}
