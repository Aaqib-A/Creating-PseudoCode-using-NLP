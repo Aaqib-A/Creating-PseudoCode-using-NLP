{
 "cells": [
  {
   "cell_type": "code",
   "execution_count": 1,
   "metadata": {},
   "outputs": [],
   "source": [
    "import numpy as np\n",
    "import pandas as pd"
   ]
  },
  {
   "cell_type": "code",
   "execution_count": 2,
   "metadata": {},
   "outputs": [],
   "source": [
    "tags = [\"--s--\", \"--e--\", \"D_TYPE\", \"OPER\", \"CMD\", \"LOOP\", \"LP_TYPE\", \"EQUAL\", \"SCOPE\", \"CONDI\", \n",
    "        \"COMPA\", \"CUST_CLASS\", \"VAR\", \"OTHER\", \"AMNT\", \"VALUE\", \"TO\", \"CC\",\"\\\"\\\"\\\"\"]\n",
    "#tags = ['RB', 'NN', 'TO']"
   ]
  },
  {
   "cell_type": "code",
   "execution_count": 3,
   "metadata": {},
   "outputs": [],
   "source": [
    "#Prepare transition dictionary\n",
    "transition_counts = {}\n",
    "\n",
    "for i in range(len(tags)):\n",
    "    for j in range(len(tags)):\n",
    "        transition_counts[(tags[i], tags[j])] = 0\n",
    "\n",
    "        \n",
    "#Testing\n",
    "#for each_item, count in transition_counts.items():\n",
    "#    print (each_item ,\"\\t\\t\", count)"
   ]
  },
  {
   "cell_type": "code",
   "execution_count": 4,
   "metadata": {},
   "outputs": [],
   "source": [
    "#Getting words and word_tags from Output_file\n",
    "\n",
    "filename = \"NLP_Data/Output_file.txt\"\n",
    "with open(filename) as file:\n",
    "    lines = file.readlines()\n",
    "\n",
    "#words = [line.split(\"\\t\") for line in lines]\n",
    "#word_tags = [line.split(\"\\t\")[1] for line in lines if line.split(\"\\t\")[0]!=\"\\n\"]\n",
    "\n",
    "words=[]\n",
    "word_tags=[]\n",
    "for line in lines:\n",
    "    if line == \"\\n\":\n",
    "        words.append(\"\\n\")\n",
    "        word_tags.append(\"\\n\")\n",
    "    else:\n",
    "        words.append(line.split(\"\\t\")[0])\n",
    "        word_tags.append(line.split(\"\\t\")[1].strip())\n",
    "\n",
    "\n",
    "#Testing:\n",
    "#for i in range(len(words)):\n",
    "#    print(words[i]+\"\\t\"+word_tags[i])"
   ]
  },
  {
   "cell_type": "code",
   "execution_count": 5,
   "metadata": {},
   "outputs": [],
   "source": [
    "#Getting Transition Counts\n",
    "\n",
    "start_tag=tags[0] #\"--s--\"\n",
    "end_tag=tags[1]   #\"--e--\"\n",
    "\n",
    "previous_tag = start_tag\n",
    "current_tag = word_tags[i]\n",
    "\n",
    "for i in range(len(word_tags)):   \n",
    "    current_tag = word_tags[i]\n",
    "    if current_tag == \"\\n\":\n",
    "        transition_counts[(previous_tag,end_tag)]+=1\n",
    "        #print((previous_tag,end_tag) ,\"\\t\", transition_counts[(previous_tag,end_tag)])\n",
    "    elif previous_tag == \"\\n\":\n",
    "        transition_counts[(start_tag,current_tag)]+=1\n",
    "        #print((start_tag,current_tag) ,\"\\t\", transition_counts[(start_tag,current_tag)])\n",
    "    else:\n",
    "        transition_counts[(previous_tag,current_tag)]+=1\n",
    "        #print((previous_tag,current_tag) ,\"\\t\", transition_counts[(previous_tag,current_tag)])\n",
    "    \n",
    "    previous_tag=current_tag\n",
    "\n",
    "#Testing\n",
    "#print (transition_counts)\n",
    "#for each_item, count in transition_counts.items():\n",
    "   # print (each_item ,\"\\t\\t\", count)"
   ]
  },
  {
   "cell_type": "code",
   "execution_count": 6,
   "metadata": {},
   "outputs": [],
   "source": [
    "#Creating Transition Matrix\n",
    "num_tags= len(tags)\n",
    "transition_matrix = np.zeros((num_tags,num_tags))\n",
    "\n",
    "#Testing\n",
    "#print(transition_matrix.shape)\n",
    "#print(transition_matrix)"
   ]
  },
  {
   "cell_type": "code",
   "execution_count": 7,
   "metadata": {},
   "outputs": [],
   "source": [
    "#Filling Transition Matrix\n",
    "for i in range(num_tags):\n",
    "    for j in range(num_tags):\n",
    "        tag_tuple = (tags[i], tags[j])\n",
    "        transition_matrix[i,j]=transition_counts.get(tag_tuple)\n",
    "\n",
    "#Testing\n",
    "#print(transition_matrix)"
   ]
  },
  {
   "cell_type": "code",
   "execution_count": 8,
   "metadata": {},
   "outputs": [],
   "source": [
    "#Defining print_matrix\n",
    "def print_matrix(matrix):\n",
    "    print(pd.DataFrame(matrix, index=tags, columns=tags))\n",
    "#print_matrix(transition_matrix)"
   ]
  },
  {
   "cell_type": "code",
   "execution_count": 9,
   "metadata": {},
   "outputs": [
    {
     "name": "stdout",
     "output_type": "stream",
     "text": [
      "[[42.]\n",
      " [ 0.]\n",
      " [17.]\n",
      " [ 2.]\n",
      " [40.]\n",
      " [ 0.]\n",
      " [ 0.]\n",
      " [10.]\n",
      " [ 2.]\n",
      " [ 0.]\n",
      " [ 0.]\n",
      " [10.]\n",
      " [40.]\n",
      " [ 2.]\n",
      " [ 6.]\n",
      " [22.]\n",
      " [11.]\n",
      " [ 3.]\n",
      " [16.]]\n",
      "            --s--     --e--  D_TYPE    OPER       CMD  LOOP  LP_TYPE  \\\n",
      "--s--         0.0  0.000000   0.000  0.0000  0.952381   0.0      0.0   \n",
      "--e--         0.0  0.000000   0.000  0.0000  0.000000   0.0      0.0   \n",
      "D_TYPE        0.0  0.235294   0.000  0.0000  0.000000   0.0      0.0   \n",
      "OPER          0.0  0.000000   0.000  0.0000  0.000000   0.0      0.0   \n",
      "CMD           0.0  0.000000   0.375  0.0000  0.000000   0.0      0.0   \n",
      "LOOP          0.0  0.000000   0.000  0.0000  0.000000   0.0      0.0   \n",
      "LP_TYPE       0.0  0.000000   0.000  0.0000  0.000000   0.0      0.0   \n",
      "EQUAL         0.0  0.000000   0.000  0.0000  0.000000   0.0      0.0   \n",
      "SCOPE         0.0  0.000000   1.000  0.0000  0.000000   0.0      0.0   \n",
      "CONDI         0.0  0.000000   0.000  0.0000  0.000000   0.0      0.0   \n",
      "COMPA         0.0  0.000000   0.000  0.0000  0.000000   0.0      0.0   \n",
      "CUST_CLASS    0.0  1.000000   0.000  0.0000  0.000000   0.0      0.0   \n",
      "VAR           0.0  0.375000   0.000  0.0250  0.000000   0.0      0.0   \n",
      "OTHER         0.0  0.000000   0.000  0.0000  0.000000   0.0      0.0   \n",
      "AMNT          0.0  1.000000   0.000  0.0000  0.000000   0.0      0.0   \n",
      "VALUE         0.0  0.000000   0.000  0.0000  0.000000   0.0      0.0   \n",
      "TO            0.0  0.000000   0.000  0.0000  0.000000   0.0      0.0   \n",
      "CC            0.0  0.000000   0.000  0.0000  0.000000   0.0      0.0   \n",
      "\"\"\"           0.0  0.437500   0.000  0.0625  0.000000   0.0      0.0   \n",
      "\n",
      "               EQUAL  SCOPE  CONDI  COMPA  CUST_CLASS       VAR  OTHER  \\\n",
      "--s--       0.000000   0.00    0.0    0.0    0.000000  0.047619   0.00   \n",
      "--e--       0.000000   0.00    0.0    0.0    0.000000  0.000000   0.00   \n",
      "D_TYPE      0.176471   0.00    0.0    0.0    0.000000  0.588235   0.00   \n",
      "OPER        0.000000   0.00    0.0    0.0    0.000000  1.000000   0.00   \n",
      "CMD         0.000000   0.05    0.0    0.0    0.000000  0.500000   0.00   \n",
      "LOOP        0.000000   0.00    0.0    0.0    0.000000  0.000000   0.00   \n",
      "LP_TYPE     0.000000   0.00    0.0    0.0    0.000000  0.000000   0.00   \n",
      "EQUAL       0.000000   0.00    0.0    0.0    0.000000  0.200000   0.00   \n",
      "SCOPE       0.000000   0.00    0.0    0.0    0.000000  0.000000   0.00   \n",
      "CONDI       0.000000   0.00    0.0    0.0    0.000000  0.000000   0.00   \n",
      "COMPA       0.000000   0.00    0.0    0.0    0.000000  0.000000   0.00   \n",
      "CUST_CLASS  0.000000   0.00    0.0    0.0    0.000000  0.000000   0.00   \n",
      "VAR         0.175000   0.00    0.0    0.0    0.000000  0.025000   0.05   \n",
      "OTHER       0.000000   0.00    0.0    0.0    1.000000  0.000000   0.00   \n",
      "AMNT        0.000000   0.00    0.0    0.0    0.000000  0.000000   0.00   \n",
      "VALUE       0.000000   0.00    0.0    0.0    0.000000  0.000000   0.00   \n",
      "TO          0.000000   0.00    0.0    0.0    0.727273  0.000000   0.00   \n",
      "CC          0.000000   0.00    0.0    0.0    0.000000  1.000000   0.00   \n",
      "\"\"\"         0.000000   0.00    0.0    0.0    0.000000  0.000000   0.00   \n",
      "\n",
      "                AMNT     VALUE    TO     CC       \"\"\"  \n",
      "--s--       0.000000  0.000000  0.00  0.000  0.000000  \n",
      "--e--       0.000000  0.000000  0.00  0.000  0.000000  \n",
      "D_TYPE      0.000000  0.000000  0.00  0.000  0.000000  \n",
      "OPER        0.000000  0.000000  0.00  0.000  0.000000  \n",
      "CMD         0.000000  0.000000  0.00  0.000  0.075000  \n",
      "LOOP        0.000000  0.000000  0.00  0.000  0.000000  \n",
      "LP_TYPE     0.000000  0.000000  0.00  0.000  0.000000  \n",
      "EQUAL       0.300000  0.000000  0.10  0.000  0.400000  \n",
      "SCOPE       0.000000  0.000000  0.00  0.000  0.000000  \n",
      "CONDI       0.000000  0.000000  0.00  0.000  0.000000  \n",
      "COMPA       0.000000  0.000000  0.00  0.000  0.000000  \n",
      "CUST_CLASS  0.000000  0.000000  0.00  0.000  0.000000  \n",
      "VAR         0.000000  0.000000  0.25  0.075  0.025000  \n",
      "OTHER       0.000000  0.000000  0.00  0.000  0.000000  \n",
      "AMNT        0.000000  0.000000  0.00  0.000  0.000000  \n",
      "VALUE       0.000000  0.636364  0.00  0.000  0.363636  \n",
      "TO          0.272727  0.000000  0.00  0.000  0.000000  \n",
      "CC          0.000000  0.000000  0.00  0.000  0.000000  \n",
      "\"\"\"         0.000000  0.500000  0.00  0.000  0.000000  \n"
     ]
    },
    {
     "name": "stderr",
     "output_type": "stream",
     "text": [
      "C:\\ProgramData\\Miniconda3\\lib\\site-packages\\ipykernel_launcher.py:7: RuntimeWarning: invalid value encountered in true_divide\n",
      "  import sys\n"
     ]
    }
   ],
   "source": [
    "#Normalize transition matrix\n",
    "\n",
    "\n",
    "#transition_matrix = transition_matrix/10\n",
    "row_sum = transition_matrix.sum(axis=1, keepdims=True)\n",
    "#print(row_sum)\n",
    "transition_matrix = transition_matrix/row_sum\n",
    "\n",
    "#FillNA\n",
    "transition_matrix = np.nan_to_num(transition_matrix)\n",
    "\n",
    "\n",
    "#Testing\n",
    "print_matrix(transition_matrix)\n",
    "#transition_matrix.sum(axis=1, keepdims=True)"
   ]
  },
  {
   "cell_type": "code",
   "execution_count": null,
   "metadata": {},
   "outputs": [],
   "source": []
  }
 ],
 "metadata": {
  "kernelspec": {
   "display_name": "Python 3",
   "language": "python",
   "name": "python3"
  },
  "language_info": {
   "codemirror_mode": {
    "name": "ipython",
    "version": 3
   },
   "file_extension": ".py",
   "mimetype": "text/x-python",
   "name": "python",
   "nbconvert_exporter": "python",
   "pygments_lexer": "ipython3",
   "version": "3.7.7"
  }
 },
 "nbformat": 4,
 "nbformat_minor": 4
}
