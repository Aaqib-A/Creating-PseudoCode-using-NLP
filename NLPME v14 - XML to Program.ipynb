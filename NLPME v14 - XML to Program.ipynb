{
 "cells": [
  {
   "cell_type": "code",
   "execution_count": 4,
   "metadata": {
    "scrolled": true
   },
   "outputs": [],
   "source": [
    "import xml.etree.ElementTree as ET\n",
    "import os\n",
    "\n",
    "source = \"Data\"\n",
    "filename = \"pseudocode.xml\"\n",
    "save_path_file = os.path.join(source, filename) \n",
    "\n",
    "tree = ET.parse(save_path_file)\n",
    "root = tree.getroot()"
   ]
  },
  {
   "cell_type": "code",
   "execution_count": 5,
   "metadata": {},
   "outputs": [
    {
     "name": "stdout",
     "output_type": "stream",
     "text": [
      "root\n",
      "{}\n",
      "variables\n"
     ]
    }
   ],
   "source": [
    "print(root.tag)\n",
    "\n",
    "print(root.attrib)\n",
    "print(root[1][0].tag)"
   ]
  },
  {
   "cell_type": "code",
   "execution_count": 6,
   "metadata": {
    "scrolled": false
   },
   "outputs": [
    {
     "name": "stdout",
     "output_type": "stream",
     "text": [
      "{'name': 'asd', 'datatype': 'string'}\n"
     ]
    }
   ],
   "source": [
    "for variable in root.iter('variable'):\n",
    "    print(variable.attrib)"
   ]
  },
  {
   "cell_type": "code",
   "execution_count": 7,
   "metadata": {
    "scrolled": true
   },
   "outputs": [
    {
     "name": "stdout",
     "output_type": "stream",
     "text": [
      "statement\n",
      "{'value': 'show asd as database '}\n",
      "program\n",
      "{'type': 'program', 'name': 'show_asd'}\n",
      "\n",
      "variables\n",
      "{}\n",
      "print\n",
      "{'variable': 'asd', 'spl_class': 'database'}\n",
      "\n",
      "variable\n",
      "{'name': 'asd', 'datatype': 'string'}\n"
     ]
    }
   ],
   "source": [
    "print(root[0].tag) \n",
    "print(root[0].attrib) \n",
    "print(root[1].tag)\n",
    "print(root[1].attrib) \n",
    "\n",
    "print(\"\")\n",
    "#print(root[0][0].tag)  \n",
    "#print(root[0][1].tag)  \n",
    "print(root[1][0].tag)\n",
    "print(root[1][0].attrib)\n",
    "print(root[1][1].tag)\n",
    "print(root[1][1].attrib)\n",
    "\n",
    "#print(root[1][2].tag)\n",
    "\n",
    "print(\"\")\n",
    "print(root[1][0][0].tag)\n",
    "print(root[1][0][0].attrib)"
   ]
  },
  {
   "cell_type": "code",
   "execution_count": 8,
   "metadata": {},
   "outputs": [
    {
     "name": "stdout",
     "output_type": "stream",
     "text": [
      "statement {'value': 'show asd as database '}\n",
      "program {'type': 'program', 'name': 'show_asd'}\n",
      "\n",
      "variables {}\n",
      "print {'variable': 'asd', 'spl_class': 'database'}\n",
      "\n",
      "variable {'name': 'asd', 'datatype': 'string'}\n"
     ]
    }
   ],
   "source": [
    "for child in root:\n",
    "    print(child.tag ,child.attrib)\n",
    "    \n",
    "print()\n",
    "for child in root[1]:\n",
    "    print(child.tag, child.attrib)\n",
    "    \n",
    "print()\n",
    "for child in root[1][0]:\n",
    "    print(child.tag, child.attrib)"
   ]
  },
  {
   "cell_type": "markdown",
   "metadata": {},
   "source": [
    "<hr/>\n",
    "<font size=\"15\">\n",
    "    <center>\n",
    "        <b>Program</b>\n",
    "    </center>\n",
    "</font>\n",
    "<hr/>"
   ]
  },
  {
   "cell_type": "code",
   "execution_count": 9,
   "metadata": {},
   "outputs": [],
   "source": [
    "import xml.etree.ElementTree as ET\n",
    "import os"
   ]
  },
  {
   "cell_type": "code",
   "execution_count": 14,
   "metadata": {},
   "outputs": [],
   "source": [
    "def get_xml_variables(data):\n",
    "    \n",
    "    #print(data)     \n",
    "    var_name = data.get('name', None)\n",
    "    var_scope = data.get('scope', None)\n",
    "    var_datatype = data.get('datatype', None)\n",
    "    var_value = data.get('value', None)\n",
    "    \n",
    "    final_sentence = \"\"\n",
    "    \n",
    "    #Python    \n",
    "    if var_scope != None:\n",
    "        if var_scope == \"global\":\n",
    "            final_sentence += var_scope + \" \"\n",
    "        if var_scope == \"local\":\n",
    "            final_sentence += \"\"\n",
    "    if var_datatype != None:\n",
    "        final_sentence += var_datatype + \" \"\n",
    "    final_sentence += var_name + \" \"\n",
    "    if var_value != None:\n",
    "        final_sentence += \"= \" + var_value\n",
    "    \n",
    "    return (final_sentence)\n"
   ]
  },
  {
   "cell_type": "code",
   "execution_count": 13,
   "metadata": {},
   "outputs": [
    {
     "name": "stdout",
     "output_type": "stream",
     "text": [
      "string asd \n"
     ]
    }
   ],
   "source": [
    "# ----- START Testing ----- #\n",
    "\n",
    "for child in root[1][0]:\n",
    "    #print(child.tag, child.attrib)\n",
    "    print( get_xml_variables(child.attrib) )\n",
    "\n",
    "# ----- END Testing ----- #"
   ]
  },
  {
   "cell_type": "markdown",
   "metadata": {},
   "source": [
    "<hr/>\n",
    "<font size=\"15\">\n",
    "    <center>\n",
    "        <b>Update Below</b>\n",
    "    </center>\n",
    "</font>\n",
    "<hr/>"
   ]
  },
  {
   "cell_type": "code",
   "execution_count": 19,
   "metadata": {},
   "outputs": [],
   "source": [
    "def get_xml_program(data_tag, data):\n",
    "    #print(data)\n",
    "    #var_name = data.get('name', None)\n",
    "    #output_var = data.get('output', None)\n",
    "    output_var = \"answer\"\n",
    "    \n",
    "    final_sentence = \"\"\n",
    "    \n",
    "    #get Variables - START\n",
    "    variables = []\n",
    "    temp_var_name = \"variable\"\n",
    "    \n",
    "    var_name = data.get(temp_var_name, None)\n",
    "    if var_name != None:\n",
    "        variables.append(var_name)\n",
    "        \n",
    "    for i in range(len(data)):\n",
    "        var_name = data.get( temp_var_name+str(i+1), None )\n",
    "        if var_name == None:\n",
    "            break\n",
    "        else:\n",
    "            variables.append(var_name)\n",
    "            \n",
    "    #print(variables)\n",
    "    #get Variables - END\n",
    "    \n",
    "  \n",
    "    if data_tag == \"print\":\n",
    "        #print(\"print\")\n",
    "        final_sentence = \"print(\" + variables[0]\n",
    "        variables.pop(0)\n",
    "        for each_var in variables:\n",
    "            final_sentence += \" + \" + each_var\n",
    "        final_sentence += \")\"\n",
    "        \n",
    "    if data_tag == \"input\":\n",
    "        #print(\"input\")\n",
    "        final_sentence = \"input(\" + variables[0]\n",
    "        variables.pop(0)\n",
    "        for each_var in variables:\n",
    "            final_sentence += \" + \" + each_var\n",
    "        final_sentence += \")\"\n",
    "        \n",
    "    if data_tag == \"add\":\n",
    "        final_sentence = output_var + \" = \" + variables[0]\n",
    "        variables.pop(0)\n",
    "        for each_var in variables:\n",
    "            final_sentence += \" + \" + each_var\n",
    "            \n",
    "    if data_tag == \"subtract\":\n",
    "        final_sentence = output_var + \" = \" + variables[0]\n",
    "        variables.pop(0)\n",
    "        for each_var in variables:\n",
    "            final_sentence += \" - \" + each_var\n",
    "            \n",
    "    if data_tag == \"multiply\":\n",
    "        final_sentence = output_var + \" = \" + variables[0]\n",
    "        variables.pop(0)\n",
    "        for each_var in variables:\n",
    "            final_sentence += \" * \" + each_var\n",
    "\n",
    "    if data_tag == \"divide\":\n",
    "        final_sentence = output_var + \" = \" + variables[0]\n",
    "        variables.pop(0)\n",
    "        for each_var in variables:\n",
    "            final_sentence += \" / \" + each_var\n",
    "            \n",
    "    if data_tag == \"mod\":\n",
    "        final_sentence = output_var + \" = \" + variables[0]\n",
    "        variables.pop(0)\n",
    "        for each_var in variables:\n",
    "            final_sentence += \" % \" + each_var\n",
    "\n",
    "    return (final_sentence)"
   ]
  },
  {
   "cell_type": "code",
   "execution_count": 29,
   "metadata": {},
   "outputs": [
    {
     "name": "stdout",
     "output_type": "stream",
     "text": [
      "string asd \n",
      "\n",
      "print {'variable': 'asd', 'spl_class': 'database'}\n",
      "print(asd)\n"
     ]
    }
   ],
   "source": [
    "# ----- Start Testing -----#\n",
    "for child in root[1][0]:\n",
    "    #print(child.tag, child.attrib)\n",
    "    print( get_xml_variables(child.attrib) )\n",
    "    \n",
    "print()\n",
    "variables_ignore_flag = True\n",
    "for child in root[1]:\n",
    "    if variables_ignore_flag == True:\n",
    "        variables_ignore_flag = False\n",
    "        continue\n",
    "    print(child.tag, child.attrib)\n",
    "    print( get_xml_program(child.tag, child.attrib) )\n",
    "\n",
    "# ----- End Testing -----#   "
   ]
  },
  {
   "cell_type": "code",
   "execution_count": 34,
   "metadata": {},
   "outputs": [
    {
     "name": "stdout",
     "output_type": "stream",
     "text": [
      "statement {'value': 'show asd as database '}\n",
      "program {'type': 'program', 'name': 'show_asd'}\n",
      "statement : show asd as database \n",
      "type : program\n",
      "name : show_asd\n",
      "program\n"
     ]
    }
   ],
   "source": [
    "def get_xml_program(data_tag,data):\n",
    "    \n",
    "    orig_statement = \"\"\n",
    "    prog_type = \"\"\n",
    "    prog_name = \"\"\n",
    "    if data_tag == \"statement\":\n",
    "        orig_statement = data.get(\"value\", None)\n",
    "        \n",
    "    if data_tag == \"program\":\n",
    "        prog_type = data.get(\"type\", None)\n",
    "        prog_name = data.get(\"name\", None)\n",
    "        \n",
    "    return(prog_type, prog_name, orig_statement)\n",
    "\n",
    "for child in root:\n",
    "    print(child.tag ,child.attrib)\n",
    "    #print(get_xml_program(child.tag ,child.attrib))\n",
    "    if child.tag == \"statement\":\n",
    "        temp_var, temp_var, orig_statement = get_xml_program(child.tag ,child.attrib)\n",
    "    elif child.tag == \"program\":\n",
    "        prog_type, prog_name, temp_var = get_xml_program(child.tag ,child.attrib)\n",
    "        \n",
    "print(\"statement : \" +orig_statement)\n",
    "print(\"type : \" +prog_type)\n",
    "print(\"name : \" +prog_name)\n",
    "\n",
    "if prog_type == \"function\":\n",
    "    print(\"function\")\n",
    "if prog_type == \"program\":\n",
    "    print (\"program\")"
   ]
  },
  {
   "cell_type": "code",
   "execution_count": 32,
   "metadata": {},
   "outputs": [
    {
     "name": "stdout",
     "output_type": "stream",
     "text": [
      "statement : show asd as database \n",
      "type : \n",
      "name : \n"
     ]
    }
   ],
   "source": []
  },
  {
   "cell_type": "code",
   "execution_count": 36,
   "metadata": {},
   "outputs": [],
   "source": [
    "file_name = prog_name+\".py\"\n",
    "indentation_length = 0\n",
    "\n",
    "with open(file_name,\"w\") as file:\n",
    "    if prog_type == \"function\":\n",
    "        write_line = \"def \" +  prog_name+\"():\\n\"\n",
    "        file.write(write_line)\n",
    "            \n",
    "    if prog_type == \"program\":\n",
    "        write_line = \"def main():\\n\"\n",
    "        file.write(write_line)\n",
    "        \n",
    "    \n",
    "    indentation_length+=1\n",
    "     \n",
    "    variables_ignore_flag = True\n",
    "    for child in root[1][0]:\n",
    "        write_line = indentation_length*\"\\t\" + get_xml_variables(child.attrib) +\"\\n\"\n",
    "        file.write(write_line)\n",
    "    file.write(\"\\n\")\n",
    "    for child in root[1]:\n",
    "        if variables_ignore_flag == True:\n",
    "            variables_ignore_flag = False\n",
    "            continue\n",
    "        #print(child.tag, child.attrib)\n",
    "        write_line = indentation_length*\"\\t\" + get_xml_program(child.tag, child.attrib) +\"\\n\"\n",
    "        file.write( write_line )\n",
    "   \n",
    "    indentation_length-=1\n",
    "    \n",
    "    \n",
    "    if prog_type == \"function\":\n",
    "        file.write(\"\\n\")\n",
    "        write_line = prog_name+\"()\\n\"\n",
    "        file.write(write_line)\n",
    "            \n",
    "    if prog_type == \"program\":\n",
    "        file.write(\"\\n\")\n",
    "        file.write(\"\\n\")  \n",
    "        write_line = \"if __name__ == \\\"__main__\\\":\\n\"\n",
    "        file.write(write_line)\n",
    "        indentation_length+=1\n",
    "        write_line = indentation_length*\"\\t\" +\"main()\\n\"\n",
    "        file.write(write_line)\n",
    "        "
   ]
  },
  {
   "cell_type": "code",
   "execution_count": 49,
   "metadata": {},
   "outputs": [
    {
     "ename": "NameError",
     "evalue": "name 'a' is not defined",
     "output_type": "error",
     "traceback": [
      "\u001b[1;31m---------------------------------------------------------------------------\u001b[0m",
      "\u001b[1;31mNameError\u001b[0m                                 Traceback (most recent call last)",
      "\u001b[1;32m<ipython-input-49-59f0592afa81>\u001b[0m in \u001b[0;36m<module>\u001b[1;34m\u001b[0m\n\u001b[0;32m      1\u001b[0m \u001b[0mnum_1\u001b[0m \u001b[1;33m=\u001b[0m\u001b[1;36m15\u001b[0m\u001b[1;33m\u001b[0m\u001b[1;33m\u001b[0m\u001b[0m\n\u001b[0;32m      2\u001b[0m \u001b[1;33m\u001b[0m\u001b[0m\n\u001b[1;32m----> 3\u001b[1;33m \u001b[0manswer\u001b[0m \u001b[1;33m=\u001b[0m \u001b[0ma\u001b[0m \u001b[1;33m+\u001b[0m \u001b[0mnum_1\u001b[0m \u001b[1;33m+\u001b[0m \u001b[0mb\u001b[0m\u001b[1;33m\u001b[0m\u001b[1;33m\u001b[0m\u001b[0m\n\u001b[0m\u001b[0;32m      4\u001b[0m \u001b[1;33m\u001b[0m\u001b[0m\n\u001b[0;32m      5\u001b[0m \u001b[1;33m\u001b[0m\u001b[0m\n",
      "\u001b[1;31mNameError\u001b[0m: name 'a' is not defined"
     ]
    }
   ],
   "source": [
    "\n",
    "\n",
    "num_1 =15\n",
    "\n",
    "answer = a + num_1 + b\n",
    "\n",
    "\n"
   ]
  },
  {
   "cell_type": "code",
   "execution_count": null,
   "metadata": {},
   "outputs": [],
   "source": []
  }
 ],
 "metadata": {
  "kernelspec": {
   "display_name": "Python 3",
   "language": "python",
   "name": "python3"
  },
  "language_info": {
   "codemirror_mode": {
    "name": "ipython",
    "version": 3
   },
   "file_extension": ".py",
   "mimetype": "text/x-python",
   "name": "python",
   "nbconvert_exporter": "python",
   "pygments_lexer": "ipython3",
   "version": "3.8.5"
  }
 },
 "nbformat": 4,
 "nbformat_minor": 4
}
