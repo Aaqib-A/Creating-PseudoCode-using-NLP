{
 "cells": [
  {
   "cell_type": "code",
   "execution_count": 1,
   "metadata": {},
   "outputs": [],
   "source": [
    "import spacy\n",
    "from spacy import displacy\n",
    "\n",
    "nlp = spacy.load(\"./NLP_Object\")\n",
    "nlp_default = spacy.load(\"en_core_web_lg\")"
   ]
  },
  {
   "cell_type": "code",
   "execution_count": 7,
   "metadata": {},
   "outputs": [],
   "source": [
    "def entity_display(statement):\n",
    "    doc = nlp(statement) \n",
    "    #for ent in doc.ents:\n",
    "        #print (ent.text, ent.start_char, ent.end_char, ent.label_)\n",
    "\n",
    "    displacy.render(nlp(doc.text), style=\"ent\", jupyter=True)"
   ]
  },
  {
   "cell_type": "code",
   "execution_count": 5,
   "metadata": {},
   "outputs": [],
   "source": [
    "def entity_identify(statement):\n",
    "    doc = nlp(statement) \n",
    "    \n",
    "    ent_text=[]\n",
    "    ent_label=[]\n",
    "    for ent in doc.ents:\n",
    "        #print (ent.text, ent.start_char, ent.end_char, ent.label_)\n",
    "        ent_text.append(ent.text)\n",
    "        ent_label.append(ent.label_)\n",
    "        \n",
    "    return (ent_text,ent_label)"
   ]
  },
  {
   "cell_type": "code",
   "execution_count": 8,
   "metadata": {},
   "outputs": [
    {
     "name": "stdout",
     "output_type": "stream",
     "text": [
      "(['get', 'input', 'k'], ['COMMAND', 'COMMAND', 'VARI'])\n"
     ]
    },
    {
     "data": {
      "text/html": [
       "<span class=\"tex2jax_ignore\"><div class=\"entities\" style=\"line-height: 2.5; direction: ltr\">\n",
       "<mark class=\"entity\" style=\"background: #ddd; padding: 0.45em 0.6em; margin: 0 0.25em; line-height: 1; border-radius: 0.35em;\">\n",
       "    get\n",
       "    <span style=\"font-size: 0.8em; font-weight: bold; line-height: 1; border-radius: 0.35em; text-transform: uppercase; vertical-align: middle; margin-left: 0.5rem\">COMMAND</span>\n",
       "</mark>\n",
       " \n",
       "<mark class=\"entity\" style=\"background: #ddd; padding: 0.45em 0.6em; margin: 0 0.25em; line-height: 1; border-radius: 0.35em;\">\n",
       "    input\n",
       "    <span style=\"font-size: 0.8em; font-weight: bold; line-height: 1; border-radius: 0.35em; text-transform: uppercase; vertical-align: middle; margin-left: 0.5rem\">COMMAND</span>\n",
       "</mark>\n",
       " \n",
       "<mark class=\"entity\" style=\"background: #ddd; padding: 0.45em 0.6em; margin: 0 0.25em; line-height: 1; border-radius: 0.35em;\">\n",
       "    k\n",
       "    <span style=\"font-size: 0.8em; font-weight: bold; line-height: 1; border-radius: 0.35em; text-transform: uppercase; vertical-align: middle; margin-left: 0.5rem\">VARI</span>\n",
       "</mark>\n",
       "</div></span>"
      ],
      "text/plain": [
       "<IPython.core.display.HTML object>"
      ]
     },
     "metadata": {},
     "output_type": "display_data"
    }
   ],
   "source": [
    "#Testing entity_identify() and entity_display()\n",
    "\n",
    "doc = \"get input k\"\n",
    "print(entity_identify(doc))\n",
    "entity_display(doc)"
   ]
  },
  {
   "cell_type": "code",
   "execution_count": 9,
   "metadata": {},
   "outputs": [],
   "source": [
    "def get_keywords(keyword):\n",
    "    doc = nlp_default(keyword)\n",
    "    token=\"\"\n",
    "    for word in doc:\n",
    "        #print(word.lemma_)\n",
    "        token = word.lemma_\n",
    "        \n",
    "    if (token == \"int\" or token == \"integer\"):\n",
    "        return (\"integer\") \n",
    "    elif (token == \"float\"):\n",
    "        return (\"float\") \n",
    "    elif (token == \"number\" or token == \"num\"):\n",
    "        return (\"number\")\n",
    "    elif (token == \"variable\" or token == \"var\" or token == \"vari\"):\n",
    "        return (\"variable\")\n",
    "    elif (token == \"double\" or token == \"doub\"):\n",
    "        return (\"double\")\n",
    "    elif (token == \"long\"):\n",
    "        return (\"long\")\n",
    "    elif (token == \"byte\"):\n",
    "        return (\"byte\")\n",
    "    elif (token == \"short\"):\n",
    "        return (\"short\")\n",
    "    \n",
    "    elif (token == \"character\" or token == \"char\"):\n",
    "        return (\"char\")\n",
    "    elif (token == \"string\" or token == \"str\"):\n",
    "        return (\"string\")\n",
    "    elif (token == \"text\" or token == \"txt\"):\n",
    "        return (\"text\")\n",
    "    \n",
    "    elif (token == \"array\" or token == \"arr\"):\n",
    "        return (\"array\")\n",
    "    elif (token == \"list\"):\n",
    "        return (\"list\")\n",
    "    elif (token == \"vector\" or token == \"vec\"):\n",
    "        return (\"vector\")\n",
    "    \n",
    "    elif (token == \"boolean\" or token == \"bool\"):\n",
    "        return (\"boolean\")\n",
    "    elif (token == \"class\"):\n",
    "        return (\"class\")\n",
    "    elif (token == \"void\"):\n",
    "        return (\"void\")\n",
    "    \n",
    "    elif (token == \"global\"):\n",
    "        return (\"global\")\n",
    "    elif (token == \"local\"):\n",
    "        return (\"local\")\n",
    "\n",
    "    elif (token == \"addition\" or token == \"add\" or token == \"+\"):\n",
    "        return (\"add\")\n",
    "    elif (token == \"subtraction\" or token == \"sub\" or token == \"minus\" or token == \"min\" or token == \"-\"):\n",
    "        return (\"subtract\")\n",
    "    elif (token == \"multiply\" or token == \"mul\" or token == \"*\"):\n",
    "        return (\"multiply\")\n",
    "    elif (token == \"divide\" or token == \"div\" or token == \"/\"):\n",
    "        return (\"divide\")\n",
    "    elif (token == \"modulo\" or token == \"modulus\" or token == \"mod\" or token == \"%\"):\n",
    "        return (\"mod\")\n",
    "    \n",
    "    elif (token == \"create\" or token == \"define\" or token == \"declare\" or token == \"set\"):\n",
    "        return (\"create\")\n",
    "    elif (token == \"print\" or token == \"display\" or token == \"show\" or token == \"write\"):\n",
    "        return (\"print\")\n",
    "    elif (token == \"get\" or token == \"input\" or token == \"insert\"):\n",
    "        return (\"input\")\n",
    "    \n",
    "    elif (token == \"function\" or token == \"func\"):\n",
    "        return (\"function\")\n",
    "    elif (token == \"program\" or token == \"programme\" or token == \"prog\" or token == \"prg\"):\n",
    "        return (\"program\")\n",
    "        \n",
    "    elif(token == \"if\"):\n",
    "        return(\"if\")\n",
    "    elif(token == \"then\"):\n",
    "        return(\"then\")\n",
    "    elif(token == \"else if\" or \"elif\" or \"elseif\" or \"if else\" or \"ifelse\"):\n",
    "        return(\"else if\")\n",
    "    elif(token == \"else\"):\n",
    "        return (\"else\")\n",
    "    \n",
    "    elif(token == \"switch\"):\n",
    "        return(\"switch\")\n",
    "        \n",
    "    elif(token == \"for\"):\n",
    "        return(\"for\")\n",
    "    elif(token == \"while\"):\n",
    "        return(\"while\")\n",
    "    elif(token == \"do while\"):\n",
    "        return(\"do while\")\n",
    "        \n",
    "        \n",
    "    else:\n",
    "        return(token)\n",
    "    \n",
    "#get_keywords(\"programme\")"
   ]
  },
  {
   "cell_type": "code",
   "execution_count": 116,
   "metadata": {
    "scrolled": true
   },
   "outputs": [],
   "source": [
    "def get_variables(statement):\n",
    "    \n",
    "    ent_text, ent_label = entity_identify(statement)\n",
    "    \n",
    "    vari_name = []\n",
    "    vari_scope = []\n",
    "    vari_datatype = []\n",
    "    vari_value = []\n",
    "    \n",
    "    curr_var_name = \"NA\"\n",
    "    curr_var_scope = \"NA\"\n",
    "    curr_default_datatype = \"NA\"    \n",
    "    curr_var_value = \"NA\"\n",
    "    \n",
    "    #print(ent_label)\n",
    "    omit_if_none = [\"VARI\", \"SCOPE\", \"DATATYPE\", \"VALUE\", \"TEXT\"]\n",
    "    if (set(omit_if_none) & set(ent_label)): #If both intersects\n",
    "        #print(\"Something matches\")\n",
    "        print(\"\",end=\"\")\n",
    "    else:\n",
    "        return(vari_name, vari_scope, vari_datatype, vari_value)\n",
    "            \n",
    "    \n",
    "    variable_flag = [0, 0, 0, 0]\n",
    "    for index in range(len(ent_text)):\n",
    "        if ent_label[index] == \"SEPERATOR\" and 1 in variable_flag:\n",
    "            \n",
    "            vari_name.append(curr_var_name)\n",
    "            vari_scope.append(curr_var_scope)\n",
    "            vari_datatype.append(curr_default_datatype)\n",
    "            vari_value.append(curr_var_value)   \n",
    "            \n",
    "            variable_flag = [0, 0, 0, 0]\n",
    "            curr_var_name = \"NA\"\n",
    "            curr_var_scope = \"NA\"\n",
    "            curr_var_value = \"NA\"\n",
    "        \n",
    "        if ent_label[index]== \"VARI\":\n",
    "            variable_flag[0]+=1\n",
    "            if variable_flag[0]>=2:\n",
    "                \n",
    "                vari_name.append(curr_var_name)\n",
    "                vari_scope.append(curr_var_scope)\n",
    "                vari_datatype.append(curr_default_datatype)\n",
    "                vari_value.append(curr_var_value) \n",
    "    \n",
    "                variable_flag = [1, 0, 0, 0]\n",
    "                curr_var_name = \"NA\"\n",
    "                curr_var_scope = \"NA\"\n",
    "                curr_var_value = \"NA\"\n",
    "            curr_var_name = ent_text[index]\n",
    "            \n",
    "        if ent_label[index] == \"SCOPE\": \n",
    "            variable_flag[1]+=1 \n",
    "            if variable_flag[1]>=2:\n",
    "                vari_name.append(curr_var_name)\n",
    "                vari_scope.append(curr_var_scope)\n",
    "                vari_datatype.append(curr_default_datatype)\n",
    "                vari_value.append(curr_var_value) \n",
    "    \n",
    "                variable_flag = [0, 1, 0, 0]\n",
    "                curr_var_name = \"NA\"\n",
    "                curr_var_scope = \"NA\"\n",
    "                curr_var_value = \"NA\"\n",
    "            curr_var_scope = get_keywords(ent_text[index])\n",
    "            \n",
    "        if ent_label[index] == \"DATATYPE\": \n",
    "            variable_flag[2]+=1\n",
    "            if variable_flag[2]>=2:\n",
    "                vari_name.append(curr_var_name)\n",
    "                vari_scope.append(curr_var_scope)\n",
    "                vari_datatype.append(curr_default_datatype)\n",
    "                vari_value.append(curr_var_value) \n",
    "    \n",
    "                variable_flag = [0, 0, 1, 0]\n",
    "                curr_var_name = \"NA\"\n",
    "                curr_var_scope = \"NA\"\n",
    "                curr_var_value = \"NA\"\n",
    "            curr_default_datatype = get_keywords(ent_text[index])\n",
    "            \n",
    "        if ent_label[index] == \"VALUE\" or ent_label[index] == \"TEXT\":\n",
    "            variable_flag[3]+=1\n",
    "            if variable_flag[3]>=2:\n",
    "                vari_name.append(curr_var_name)\n",
    "                vari_scope.append(curr_var_scope)\n",
    "                vari_datatype.append(curr_default_datatype)\n",
    "                vari_value.append(curr_var_value) \n",
    "    \n",
    "                variable_flag = [0, 0, 0, 1]\n",
    "                curr_var_name = \"NA\"\n",
    "                curr_var_scope = \"NA\"\n",
    "                curr_var_value = \"NA\"\n",
    "            curr_var_value = ent_text[index]\n",
    "            #print(\"Value detected: \"+curr_var_value)\n",
    "            \n",
    "    #if curr_var_name != \"NA\":\n",
    "    #    vari_name.append(curr_var_name)\n",
    "    #elif curr_default_datatype != \"NA\":\n",
    "    #    vari_name.append(curr_default_datatype+\"_1\")\n",
    "    #else:\n",
    "    #    vari_name.append(\"string_1\")\n",
    "    \n",
    "    #Special Cases - Start     \n",
    "    #Filling missing information if name is given (Last value only)\n",
    "    if curr_var_name != \"NA\":\n",
    "        vari_name.append(curr_var_name)    \n",
    "        vari_scope.append(curr_var_scope)\n",
    "        vari_datatype.append(curr_default_datatype)\n",
    "        vari_value.append(curr_var_value) \n",
    "                \n",
    "        variable_flag = [0, 0, 0, 0]\n",
    "        curr_var_name = \"NA\"\n",
    "        curr_var_scope = \"NA\"\n",
    "        curr_var_value = \"NA\"\n",
    "\n",
    "    #Filling missing information if no name is given (Last value only)\n",
    "    elif curr_var_name == \"NA\":\n",
    "        if curr_default_datatype == \"NA\":\n",
    "            curr_default_datatype = assign_default_datatype(ent_label)\n",
    "        vari_name.append(curr_default_datatype+\"_1\")\n",
    "        vari_scope.append(curr_var_scope)\n",
    "        vari_datatype.append(curr_default_datatype)\n",
    "        vari_value.append(curr_var_value) \n",
    "                \n",
    "        variable_flag = [0, 0, 0, 0]\n",
    "        curr_var_name = \"NA\"\n",
    "        curr_var_scope = \"NA\"\n",
    "        curr_var_value = \"NA\"      \n",
    "    #Special Cases - END\n",
    "        \n",
    "    #Set default datatype - START\n",
    "    if vari_datatype != []:\n",
    "        if vari_datatype[-1] == \"NA\":\n",
    "            curr_default_datatype = assign_default_datatype(ent_label)\n",
    "            #if \"VALUE\" in ent_label: \n",
    "            #    curr_default_datatype = get_keywords(\"float\")\n",
    "            #elif \"TEXT\" in ent_label:\n",
    "            #    curr_default_datatype = get_keywords(\"string\")\n",
    "            #else:\n",
    "            #    curr_default_datatype = get_keywords(\"string\")\n",
    "            \n",
    "        for index, each_vari_datatype in enumerate(vari_datatype):\n",
    "            if each_vari_datatype == \"NA\":\n",
    "                vari_datatype[index] = curr_default_datatype                 \n",
    "    #Set default datatype - END  \n",
    "    \n",
    "    #Solves first name as 'NA' bug - Start\n",
    "    for index, loop_vari in enumerate(vari_name):\n",
    "        if loop_vari == \"NA\":\n",
    "            vari_name[index] = vari_datatype[index]+\"_1\"\n",
    "    #Solves first name as 'NA' bug - End\n",
    "    \n",
    "    return(vari_name, vari_scope, vari_datatype, vari_value)\n",
    "\n",
    "def assign_default_datatype(ent_label):\n",
    "    if \"VALUE\" in ent_label: \n",
    "        return get_keywords(\"float\")\n",
    "    elif \"TEXT\" in ent_label:\n",
    "        return get_keywords(\"string\")\n",
    "    else:\n",
    "        return get_keywords(\"string\")\n",
    "    "
   ]
  },
  {
   "cell_type": "code",
   "execution_count": 117,
   "metadata": {
    "scrolled": false
   },
   "outputs": [
    {
     "data": {
      "text/html": [
       "<span class=\"tex2jax_ignore\"><div class=\"entities\" style=\"line-height: 2.5; direction: ltr\">\n",
       "<mark class=\"entity\" style=\"background: #ddd; padding: 0.45em 0.6em; margin: 0 0.25em; line-height: 1; border-radius: 0.35em;\">\n",
       "    show\n",
       "    <span style=\"font-size: 0.8em; font-weight: bold; line-height: 1; border-radius: 0.35em; text-transform: uppercase; vertical-align: middle; margin-left: 0.5rem\">COMMAND</span>\n",
       "</mark>\n",
       " \n",
       "<mark class=\"entity\" style=\"background: #ddd; padding: 0.45em 0.6em; margin: 0 0.25em; line-height: 1; border-radius: 0.35em;\">\n",
       "    15\n",
       "    <span style=\"font-size: 0.8em; font-weight: bold; line-height: 1; border-radius: 0.35em; text-transform: uppercase; vertical-align: middle; margin-left: 0.5rem\">VALUE</span>\n",
       "</mark>\n",
       "</div></span>"
      ],
      "text/plain": [
       "<IPython.core.display.HTML object>"
      ]
     },
     "metadata": {},
     "output_type": "display_data"
    },
    {
     "name": "stdout",
     "output_type": "stream",
     "text": [
      "(['float_1'], ['NA'], ['float'], ['15'])\n",
      "\n"
     ]
    },
    {
     "data": {
      "text/html": [
       "<span class=\"tex2jax_ignore\"><div class=\"entities\" style=\"line-height: 2.5; direction: ltr\">\n",
       "<mark class=\"entity\" style=\"background: #ddd; padding: 0.45em 0.6em; margin: 0 0.25em; line-height: 1; border-radius: 0.35em;\">\n",
       "    show\n",
       "    <span style=\"font-size: 0.8em; font-weight: bold; line-height: 1; border-radius: 0.35em; text-transform: uppercase; vertical-align: middle; margin-left: 0.5rem\">COMMAND</span>\n",
       "</mark>\n",
       " \n",
       "<mark class=\"entity\" style=\"background: #ddd; padding: 0.45em 0.6em; margin: 0 0.25em; line-height: 1; border-radius: 0.35em;\">\n",
       "    global\n",
       "    <span style=\"font-size: 0.8em; font-weight: bold; line-height: 1; border-radius: 0.35em; text-transform: uppercase; vertical-align: middle; margin-left: 0.5rem\">SCOPE</span>\n",
       "</mark>\n",
       " \n",
       "<mark class=\"entity\" style=\"background: #ddd; padding: 0.45em 0.6em; margin: 0 0.25em; line-height: 1; border-radius: 0.35em;\">\n",
       "    text\n",
       "    <span style=\"font-size: 0.8em; font-weight: bold; line-height: 1; border-radius: 0.35em; text-transform: uppercase; vertical-align: middle; margin-left: 0.5rem\">DATATYPE</span>\n",
       "</mark>\n",
       "</div></span>"
      ],
      "text/plain": [
       "<IPython.core.display.HTML object>"
      ]
     },
     "metadata": {},
     "output_type": "display_data"
    },
    {
     "name": "stdout",
     "output_type": "stream",
     "text": [
      "(['text_1'], ['global'], ['text'], ['NA'])\n",
      "\n"
     ]
    },
    {
     "data": {
      "text/html": [
       "<span class=\"tex2jax_ignore\"><div class=\"entities\" style=\"line-height: 2.5; direction: ltr\">\n",
       "<mark class=\"entity\" style=\"background: #ddd; padding: 0.45em 0.6em; margin: 0 0.25em; line-height: 1; border-radius: 0.35em;\">\n",
       "    show\n",
       "    <span style=\"font-size: 0.8em; font-weight: bold; line-height: 1; border-radius: 0.35em; text-transform: uppercase; vertical-align: middle; margin-left: 0.5rem\">COMMAND</span>\n",
       "</mark>\n",
       " \n",
       "<mark class=\"entity\" style=\"background: #ddd; padding: 0.45em 0.6em; margin: 0 0.25em; line-height: 1; border-radius: 0.35em;\">\n",
       "    15\n",
       "    <span style=\"font-size: 0.8em; font-weight: bold; line-height: 1; border-radius: 0.35em; text-transform: uppercase; vertical-align: middle; margin-left: 0.5rem\">VALUE</span>\n",
       "</mark>\n",
       "\n",
       "<mark class=\"entity\" style=\"background: #ddd; padding: 0.45em 0.6em; margin: 0 0.25em; line-height: 1; border-radius: 0.35em;\">\n",
       "    ,\n",
       "    <span style=\"font-size: 0.8em; font-weight: bold; line-height: 1; border-radius: 0.35em; text-transform: uppercase; vertical-align: middle; margin-left: 0.5rem\">SEPERATOR</span>\n",
       "</mark>\n",
       " \n",
       "<mark class=\"entity\" style=\"background: #ddd; padding: 0.45em 0.6em; margin: 0 0.25em; line-height: 1; border-radius: 0.35em;\">\n",
       "    var2\n",
       "    <span style=\"font-size: 0.8em; font-weight: bold; line-height: 1; border-radius: 0.35em; text-transform: uppercase; vertical-align: middle; margin-left: 0.5rem\">VARI</span>\n",
       "</mark>\n",
       " \n",
       "<mark class=\"entity\" style=\"background: #ddd; padding: 0.45em 0.6em; margin: 0 0.25em; line-height: 1; border-radius: 0.35em;\">\n",
       "    and\n",
       "    <span style=\"font-size: 0.8em; font-weight: bold; line-height: 1; border-radius: 0.35em; text-transform: uppercase; vertical-align: middle; margin-left: 0.5rem\">SEPERATOR</span>\n",
       "</mark>\n",
       " \n",
       "<mark class=\"entity\" style=\"background: #ddd; padding: 0.45em 0.6em; margin: 0 0.25em; line-height: 1; border-radius: 0.35em;\">\n",
       "    int\n",
       "    <span style=\"font-size: 0.8em; font-weight: bold; line-height: 1; border-radius: 0.35em; text-transform: uppercase; vertical-align: middle; margin-left: 0.5rem\">DATATYPE</span>\n",
       "</mark>\n",
       " \n",
       "<mark class=\"entity\" style=\"background: #ddd; padding: 0.45em 0.6em; margin: 0 0.25em; line-height: 1; border-radius: 0.35em;\">\n",
       "    var3\n",
       "    <span style=\"font-size: 0.8em; font-weight: bold; line-height: 1; border-radius: 0.35em; text-transform: uppercase; vertical-align: middle; margin-left: 0.5rem\">VARI</span>\n",
       "</mark>\n",
       "</div></span>"
      ],
      "text/plain": [
       "<IPython.core.display.HTML object>"
      ]
     },
     "metadata": {},
     "output_type": "display_data"
    },
    {
     "name": "stdout",
     "output_type": "stream",
     "text": [
      "(['integer_1', 'var2', 'var3'], ['NA', 'NA', 'NA'], ['integer', 'integer', 'integer'], ['15', 'NA', 'NA'])\n",
      "\n"
     ]
    },
    {
     "data": {
      "text/html": [
       "<span class=\"tex2jax_ignore\"><div class=\"entities\" style=\"line-height: 2.5; direction: ltr\">\n",
       "<mark class=\"entity\" style=\"background: #ddd; padding: 0.45em 0.6em; margin: 0 0.25em; line-height: 1; border-radius: 0.35em;\">\n",
       "    print\n",
       "    <span style=\"font-size: 0.8em; font-weight: bold; line-height: 1; border-radius: 0.35em; text-transform: uppercase; vertical-align: middle; margin-left: 0.5rem\">COMMAND</span>\n",
       "</mark>\n",
       " \n",
       "<mark class=\"entity\" style=\"background: #ddd; padding: 0.45em 0.6em; margin: 0 0.25em; line-height: 1; border-radius: 0.35em;\">\n",
       "    a\n",
       "    <span style=\"font-size: 0.8em; font-weight: bold; line-height: 1; border-radius: 0.35em; text-transform: uppercase; vertical-align: middle; margin-left: 0.5rem\">VARI</span>\n",
       "</mark>\n",
       "\n",
       "<mark class=\"entity\" style=\"background: #ddd; padding: 0.45em 0.6em; margin: 0 0.25em; line-height: 1; border-radius: 0.35em;\">\n",
       "    ,\n",
       "    <span style=\"font-size: 0.8em; font-weight: bold; line-height: 1; border-radius: 0.35em; text-transform: uppercase; vertical-align: middle; margin-left: 0.5rem\">SEPERATOR</span>\n",
       "</mark>\n",
       "\n",
       "<mark class=\"entity\" style=\"background: #ddd; padding: 0.45em 0.6em; margin: 0 0.25em; line-height: 1; border-radius: 0.35em;\">\n",
       "    b\n",
       "    <span style=\"font-size: 0.8em; font-weight: bold; line-height: 1; border-radius: 0.35em; text-transform: uppercase; vertical-align: middle; margin-left: 0.5rem\">VARI</span>\n",
       "</mark>\n",
       " \n",
       "<mark class=\"entity\" style=\"background: #ddd; padding: 0.45em 0.6em; margin: 0 0.25em; line-height: 1; border-radius: 0.35em;\">\n",
       "    and\n",
       "    <span style=\"font-size: 0.8em; font-weight: bold; line-height: 1; border-radius: 0.35em; text-transform: uppercase; vertical-align: middle; margin-left: 0.5rem\">SEPERATOR</span>\n",
       "</mark>\n",
       " \n",
       "<mark class=\"entity\" style=\"background: #ddd; padding: 0.45em 0.6em; margin: 0 0.25em; line-height: 1; border-radius: 0.35em;\">\n",
       "    c\n",
       "    <span style=\"font-size: 0.8em; font-weight: bold; line-height: 1; border-radius: 0.35em; text-transform: uppercase; vertical-align: middle; margin-left: 0.5rem\">VARI</span>\n",
       "</mark>\n",
       "</div></span>"
      ],
      "text/plain": [
       "<IPython.core.display.HTML object>"
      ]
     },
     "metadata": {},
     "output_type": "display_data"
    },
    {
     "name": "stdout",
     "output_type": "stream",
     "text": [
      "(['a', 'b', 'c'], ['NA', 'NA', 'NA'], ['string', 'string', 'string'], ['NA', 'NA', 'NA'])\n",
      "\n"
     ]
    },
    {
     "data": {
      "text/html": [
       "<span class=\"tex2jax_ignore\"><div class=\"entities\" style=\"line-height: 2.5; direction: ltr\">\n",
       "<mark class=\"entity\" style=\"background: #ddd; padding: 0.45em 0.6em; margin: 0 0.25em; line-height: 1; border-radius: 0.35em;\">\n",
       "    print\n",
       "    <span style=\"font-size: 0.8em; font-weight: bold; line-height: 1; border-radius: 0.35em; text-transform: uppercase; vertical-align: middle; margin-left: 0.5rem\">COMMAND</span>\n",
       "</mark>\n",
       " \n",
       "<mark class=\"entity\" style=\"background: #ddd; padding: 0.45em 0.6em; margin: 0 0.25em; line-height: 1; border-radius: 0.35em;\">\n",
       "    10\n",
       "    <span style=\"font-size: 0.8em; font-weight: bold; line-height: 1; border-radius: 0.35em; text-transform: uppercase; vertical-align: middle; margin-left: 0.5rem\">VALUE</span>\n",
       "</mark>\n",
       " \n",
       "<mark class=\"entity\" style=\"background: #ddd; padding: 0.45em 0.6em; margin: 0 0.25em; line-height: 1; border-radius: 0.35em;\">\n",
       "    and\n",
       "    <span style=\"font-size: 0.8em; font-weight: bold; line-height: 1; border-radius: 0.35em; text-transform: uppercase; vertical-align: middle; margin-left: 0.5rem\">SEPERATOR</span>\n",
       "</mark>\n",
       " \n",
       "<mark class=\"entity\" style=\"background: #ddd; padding: 0.45em 0.6em; margin: 0 0.25em; line-height: 1; border-radius: 0.35em;\">\n",
       "    a1\n",
       "    <span style=\"font-size: 0.8em; font-weight: bold; line-height: 1; border-radius: 0.35em; text-transform: uppercase; vertical-align: middle; margin-left: 0.5rem\">VARI</span>\n",
       "</mark>\n",
       "</div></span>"
      ],
      "text/plain": [
       "<IPython.core.display.HTML object>"
      ]
     },
     "metadata": {},
     "output_type": "display_data"
    },
    {
     "name": "stdout",
     "output_type": "stream",
     "text": [
      "(['float_1', 'a1'], ['NA', 'NA'], ['float', 'float'], ['10', 'NA'])\n",
      "\n"
     ]
    },
    {
     "data": {
      "text/html": [
       "<span class=\"tex2jax_ignore\"><div class=\"entities\" style=\"line-height: 2.5; direction: ltr\">\n",
       "<mark class=\"entity\" style=\"background: #ddd; padding: 0.45em 0.6em; margin: 0 0.25em; line-height: 1; border-radius: 0.35em;\">\n",
       "    print\n",
       "    <span style=\"font-size: 0.8em; font-weight: bold; line-height: 1; border-radius: 0.35em; text-transform: uppercase; vertical-align: middle; margin-left: 0.5rem\">COMMAND</span>\n",
       "</mark>\n",
       " \n",
       "<mark class=\"entity\" style=\"background: #ddd; padding: 0.45em 0.6em; margin: 0 0.25em; line-height: 1; border-radius: 0.35em;\">\n",
       "    a\n",
       "    <span style=\"font-size: 0.8em; font-weight: bold; line-height: 1; border-radius: 0.35em; text-transform: uppercase; vertical-align: middle; margin-left: 0.5rem\">VARI</span>\n",
       "</mark>\n",
       " \n",
       "<mark class=\"entity\" style=\"background: #ddd; padding: 0.45em 0.6em; margin: 0 0.25em; line-height: 1; border-radius: 0.35em;\">\n",
       "    and\n",
       "    <span style=\"font-size: 0.8em; font-weight: bold; line-height: 1; border-radius: 0.35em; text-transform: uppercase; vertical-align: middle; margin-left: 0.5rem\">SEPERATOR</span>\n",
       "</mark>\n",
       " \n",
       "<mark class=\"entity\" style=\"background: #ddd; padding: 0.45em 0.6em; margin: 0 0.25em; line-height: 1; border-radius: 0.35em;\">\n",
       "    10\n",
       "    <span style=\"font-size: 0.8em; font-weight: bold; line-height: 1; border-radius: 0.35em; text-transform: uppercase; vertical-align: middle; margin-left: 0.5rem\">VALUE</span>\n",
       "</mark>\n",
       "</div></span>"
      ],
      "text/plain": [
       "<IPython.core.display.HTML object>"
      ]
     },
     "metadata": {},
     "output_type": "display_data"
    },
    {
     "name": "stdout",
     "output_type": "stream",
     "text": [
      "(['a', 'float_1'], ['NA', 'NA'], ['float', 'float'], ['NA', '10'])\n",
      "\n"
     ]
    },
    {
     "data": {
      "text/html": [
       "<span class=\"tex2jax_ignore\"><div class=\"entities\" style=\"line-height: 2.5; direction: ltr\">\n",
       "<mark class=\"entity\" style=\"background: #ddd; padding: 0.45em 0.6em; margin: 0 0.25em; line-height: 1; border-radius: 0.35em;\">\n",
       "    print\n",
       "    <span style=\"font-size: 0.8em; font-weight: bold; line-height: 1; border-radius: 0.35em; text-transform: uppercase; vertical-align: middle; margin-left: 0.5rem\">COMMAND</span>\n",
       "</mark>\n",
       " \n",
       "<mark class=\"entity\" style=\"background: #ddd; padding: 0.45em 0.6em; margin: 0 0.25em; line-height: 1; border-radius: 0.35em;\">\n",
       "    15\n",
       "    <span style=\"font-size: 0.8em; font-weight: bold; line-height: 1; border-radius: 0.35em; text-transform: uppercase; vertical-align: middle; margin-left: 0.5rem\">VALUE</span>\n",
       "</mark>\n",
       " \n",
       "<mark class=\"entity\" style=\"background: #ddd; padding: 0.45em 0.6em; margin: 0 0.25em; line-height: 1; border-radius: 0.35em;\">\n",
       "    and\n",
       "    <span style=\"font-size: 0.8em; font-weight: bold; line-height: 1; border-radius: 0.35em; text-transform: uppercase; vertical-align: middle; margin-left: 0.5rem\">SEPERATOR</span>\n",
       "</mark>\n",
       " \n",
       "<mark class=\"entity\" style=\"background: #ddd; padding: 0.45em 0.6em; margin: 0 0.25em; line-height: 1; border-radius: 0.35em;\">\n",
       "    10\n",
       "    <span style=\"font-size: 0.8em; font-weight: bold; line-height: 1; border-radius: 0.35em; text-transform: uppercase; vertical-align: middle; margin-left: 0.5rem\">VALUE</span>\n",
       "</mark>\n",
       " \n",
       "<mark class=\"entity\" style=\"background: #ddd; padding: 0.45em 0.6em; margin: 0 0.25em; line-height: 1; border-radius: 0.35em;\">\n",
       "    and\n",
       "    <span style=\"font-size: 0.8em; font-weight: bold; line-height: 1; border-radius: 0.35em; text-transform: uppercase; vertical-align: middle; margin-left: 0.5rem\">SEPERATOR</span>\n",
       "</mark>\n",
       " \n",
       "<mark class=\"entity\" style=\"background: #ddd; padding: 0.45em 0.6em; margin: 0 0.25em; line-height: 1; border-radius: 0.35em;\">\n",
       "    20\n",
       "    <span style=\"font-size: 0.8em; font-weight: bold; line-height: 1; border-radius: 0.35em; text-transform: uppercase; vertical-align: middle; margin-left: 0.5rem\">VALUE</span>\n",
       "</mark>\n",
       "</div></span>"
      ],
      "text/plain": [
       "<IPython.core.display.HTML object>"
      ]
     },
     "metadata": {},
     "output_type": "display_data"
    },
    {
     "name": "stdout",
     "output_type": "stream",
     "text": [
      "(['float_1', 'float_1', 'float_1'], ['NA', 'NA', 'NA'], ['float', 'float', 'float'], ['15', '10', '20'])\n",
      "\n"
     ]
    },
    {
     "data": {
      "text/html": [
       "<span class=\"tex2jax_ignore\"><div class=\"entities\" style=\"line-height: 2.5; direction: ltr\">\n",
       "<mark class=\"entity\" style=\"background: #ddd; padding: 0.45em 0.6em; margin: 0 0.25em; line-height: 1; border-radius: 0.35em;\">\n",
       "    print\n",
       "    <span style=\"font-size: 0.8em; font-weight: bold; line-height: 1; border-radius: 0.35em; text-transform: uppercase; vertical-align: middle; margin-left: 0.5rem\">COMMAND</span>\n",
       "</mark>\n",
       " a</div></span>"
      ],
      "text/plain": [
       "<IPython.core.display.HTML object>"
      ]
     },
     "metadata": {},
     "output_type": "display_data"
    },
    {
     "name": "stdout",
     "output_type": "stream",
     "text": [
      "([], [], [], [])\n",
      "\n"
     ]
    }
   ],
   "source": [
    "#Testing\n",
    "\n",
    "statement = \"show 15\"\n",
    "entity_display(statement)\n",
    "print(get_variables(statement))\n",
    "print()\n",
    "\n",
    "statement = \"show global text\"\n",
    "entity_display(statement)\n",
    "print(get_variables(statement))\n",
    "print()\n",
    "             \n",
    "statement = \"show 15, var2 and int var3\"\n",
    "entity_display(statement)\n",
    "print(get_variables(statement))\n",
    "print()\n",
    "\n",
    "statement = \"print a,b and c\"\n",
    "entity_display(statement)\n",
    "print(get_variables(statement))\n",
    "print()\n",
    "\n",
    "statement = \"print 10 and a1\"\n",
    "entity_display(statement)\n",
    "print(get_variables(statement))\n",
    "print()\n",
    "\n",
    "statement = \"print a and 10\"\n",
    "entity_display(statement)\n",
    "print(get_variables(statement))\n",
    "print()\n",
    "\n",
    "statement = \"print 15 and 10 and 20\"\n",
    "entity_display(statement)\n",
    "print(get_variables(statement))\n",
    "print()\n",
    "\n",
    "statement = \"print a\"\n",
    "entity_display(statement)\n",
    "print(get_variables(statement))\n",
    "print()"
   ]
  },
  {
   "cell_type": "code",
   "execution_count": null,
   "metadata": {},
   "outputs": [],
   "source": []
  }
 ],
 "metadata": {
  "kernelspec": {
   "display_name": "Python 3",
   "language": "python",
   "name": "python3"
  },
  "language_info": {
   "codemirror_mode": {
    "name": "ipython",
    "version": 3
   },
   "file_extension": ".py",
   "mimetype": "text/x-python",
   "name": "python",
   "nbconvert_exporter": "python",
   "pygments_lexer": "ipython3",
   "version": "3.8.5"
  }
 },
 "nbformat": 4,
 "nbformat_minor": 4
}
