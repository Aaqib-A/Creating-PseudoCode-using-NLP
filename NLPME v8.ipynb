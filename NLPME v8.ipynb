{
 "cells": [
  {
   "cell_type": "code",
   "execution_count": 59,
   "metadata": {},
   "outputs": [],
   "source": [
    "#Importing importing Files\n",
    "\n",
    "import re\n",
    "import spacy\n",
    "from spacy.matcher import Matcher\n",
    "nlp = spacy.load(\"en_core_web_lg\")"
   ]
  },
  {
   "cell_type": "code",
   "execution_count": 60,
   "metadata": {},
   "outputs": [],
   "source": [
    "#Reading File Data\n",
    "\n",
    "fileData=[]\n",
    "with open(\"Output.txt\", \"r\") as file:\n",
    "    for line in file:\n",
    "        x = re.sub(\"=\", \" = \", line)\n",
    "        x = re.sub(\"  \",\" \", x)   \n",
    "        fileData.append(x)"
   ]
  },
  {
   "cell_type": "code",
   "execution_count": 69,
   "metadata": {
    "scrolled": true
   },
   "outputs": [],
   "source": [
    "#Defining Patterns\n",
    "#{\"IN\":[\"\",\"s\"]}\n",
    "matcher = Matcher(nlp.vocab)\n",
    "\n",
    "pattern1 = [{\"LOWER\":{\"IN\":[\"integer\",\"integers\"]}}]\n",
    "pattern2 = [{\"LOWER\":{\"IN\":[\"int\",\"ints\"]}}]\n",
    "pattern3 = [{\"LOWER\":{\"IN\":[\"float\",\"floats\"]}}]\n",
    "pattern4 = [{\"LOWER\":{\"IN\":[\"number\",\"numbers\"]}}]\n",
    "pattern5 = [{\"LOWER\":{\"IN\":[\"num\",\"nums\"]}}]\n",
    "pattern6 = [{\"LOWER\":{\"IN\":[\"variable\",\"variables\"]}}]\n",
    "pattern7 = [{\"LOWER\":{\"IN\":[\"var\",\"vars\"]}}]\n",
    "pattern8 = [{\"LOWER\":{\"IN\":[\"double\",\"doubles\"]}}]\n",
    "pattern9 = [{\"LOWER\":{\"IN\":[\"character\",\"characters\"]}}]\n",
    "pattern10 = [{\"LOWER\":{\"IN\":[\"char\",\"chars\"]}}]\n",
    "pattern11 = [{\"LOWER\":{\"IN\":[\"chr\",\"chrs\"]}}]\n",
    "pattern12 = [{\"LOWER\":{\"IN\":[\"string\",\"strings\"]}}]\n",
    "pattern13 = [{\"LOWER\":{\"IN\":[\"str\",\"strs\"]}}]\n",
    "pattern14 = [{\"LOWER\":{\"IN\":[\"void\",\"voids\"]}}]\n",
    "pattern15 = [{\"LOWER\":{\"IN\":[\"array\",\"arrays\"]}}]\n",
    "pattern16 = [{\"LOWER\":{\"IN\":[\"list\",\"lists\"]}}]\n",
    "pattern17 = [{\"LOWER\":{\"IN\":[\"vector\",\"vectors\"]}}]\n",
    "pattern18 = [{\"LOWER\":{\"IN\":[\"class\",\"classes\"]}}]\n",
    "matcher.add(\"DATATYPE\", None, pattern1, pattern2, pattern3, pattern4, pattern5, pattern6, pattern7, \n",
    "            pattern8, pattern9, pattern10, pattern11, pattern12, pattern13, pattern14, pattern15, \n",
    "            pattern16, pattern17,pattern18)\n",
    "\n",
    "pattern2_1 = [{\"LOWER\":\"global\"}]\n",
    "pattern2_2 = [{\"LOWER\":\"local\"}]\n",
    "matcher.add(\"SCOPE\", None, pattern2_1, pattern2_2)\n",
    "\n",
    "pattern3_1 = [{\"LOWER\":{\"IN\":[\"addition\",\"additions\"]}}]\n",
    "pattern3_2 = [{\"LOWER\":{\"IN\":[\"add\",\"adds\"]}}]\n",
    "pattern3_3 = [{\"TEXT\":\"+\"}]\n",
    "pattern3_4 = [{\"LOWER\":{\"IN\":[\"subtraction\",\"subtractions\"]}}]\n",
    "pattern3_5 = [{\"LOWER\":{\"IN\":[\"sub\",\"subs\"]}}]\n",
    "pattern3_6 = [{\"TEXT\":\"-\"}]\n",
    "pattern3_7 = [{\"LOWER\":{\"IN\":[\"minus\",\"minuses\"]}}]\n",
    "pattern3_8 = [{\"LOWER\":{\"IN\":[\"multiply\",\"multiplies\"]}}]\n",
    "pattern3_9 = [{\"LOWER\":{\"IN\":[\"mul\",\"muls\"]}}]\n",
    "pattern3_10 = [{\"TEXT\":\"*\"}]\n",
    "pattern3_11 = [{\"LOWER\":{\"IN\":[\"divide\",\"divides\"]}}]\n",
    "pattern3_12 = [{\"LOWER\":{\"IN\":[\"div\",\"divs\"]}}]\n",
    "pattern3_13 = [{\"TEXT\":\"/\"}]\n",
    "pattern3_14 = [{\"LOWER\":{\"IN\":[\"modulo\",\"modulus\",\"moduluses\"]}}]\n",
    "pattern3_15 = [{\"LOWER\":{\"IN\":[\"mod\",\"mods\"]}}]\n",
    "pattern3_16 = [{\"TEXT\":\"%\"}]\n",
    "matcher.add(\"OPERATOR\", None, pattern3_1, pattern3_2, pattern3_3, pattern3_4, pattern3_5, pattern3_6, pattern3_7, \n",
    "            pattern3_8, pattern3_9, pattern3_10, pattern3_11, pattern3_12, pattern3_13, pattern3_14, pattern3_15, \n",
    "            pattern3_16)\n",
    "\n",
    "pattern4_1 = [{\"LOWER\":{\"IN\":[\"create\",\"creates\"]}}]\n",
    "pattern4_2 = [{\"LOWER\":{\"IN\":[\"define\",\"defines\"]}}]\n",
    "pattern4_3 = [{\"LOWER\":{\"IN\":[\"declare\",\"declares\"]}}]\n",
    "pattern4_4 = [{\"LOWER\":{\"IN\":[\"set\",\"sets\"]}}]\n",
    "pattern4_5 = [{\"LOWER\":{\"IN\":[\"print\",\"prints\"]}}]\n",
    "pattern4_6 = [{\"LOWER\":{\"IN\":[\"display\",\"displays\"]}}]\n",
    "pattern4_7 = [{\"LOWER\":{\"IN\":[\"show\",\"shows\"]}}]\n",
    "pattern4_8 = [{\"LOWER\":{\"IN\":[\"get\",\"gets\"]}}]\n",
    "pattern4_9 = [{\"LOWER\":{\"IN\":[\"input\",\"inputs\"]}}]\n",
    "pattern4_10 = [{\"LOWER\":{\"IN\":[\"save\",\"saves\"]}}]\n",
    "matcher.add(\"COMMAND\", None, pattern4_1, pattern4_2, pattern4_3, pattern4_4, pattern4_5, pattern4_6, pattern4_7, \n",
    "            pattern4_8, pattern4_9, pattern4_10)\n",
    "\n",
    "pattern5_1 = [{\"LOWER\":{\"IN\":[\"function\",\"functions\"]}}]\n",
    "pattern5_2 = [{\"LOWER\":{\"IN\":[\"func\",\"funcs\"]}}]\n",
    "pattern5_3 = [{\"LOWER\":{\"IN\":[\"program\",\"programs\"]}}]\n",
    "pattern5_4 = [{\"LOWER\":{\"IN\":[\"programme\",\"programmes\"]}}]\n",
    "pattern5_5 = [{\"LOWER\":{\"IN\":[\"prog\",\"progs\"]}}]\n",
    "matcher.add(\"FUNC_PROG\", None, pattern5_1, pattern5_2, pattern5_3, pattern5_4, pattern5_5)"
   ]
  },
  {
   "cell_type": "code",
   "execution_count": 70,
   "metadata": {
    "scrolled": true
   },
   "outputs": [],
   "source": [
    "#Creating Training Data\n",
    "\n",
    "TRAINING_DATA = []\n",
    "\n",
    "# Create a Doc object for each text in TEXTS\n",
    "for doc in nlp.pipe(fileData):\n",
    "    \n",
    "    #x = re.sub(\"=\", \" = \", doc)\n",
    "    #doc = re.sub(\"  \",\" \", x)\n",
    "    \n",
    "    # Match on the doc and create a list of matched spans\n",
    "    spans = [doc[start:end] for match_id, start, end in matcher(doc)]\n",
    "    \n",
    "    #Modified Start\n",
    "    entity_label=[]\n",
    "    entity_label = [(nlp.vocab.strings[match_id]) for match_id, start, end in matcher(doc)]\n",
    "    #if entity_label!=[]:\n",
    "    #    print (entity_label)\n",
    "    entities = [(span.start_char, span.end_char, entity_label[index]) for index,span in enumerate(spans)]\n",
    "    \n",
    "    #for eachWord in entities:\n",
    "    #    print(\"Entities: {}\".format(eachWord))\n",
    "    \n",
    "    # Format the matches as a (doc.text, entities) tuple\n",
    "    training_example = (doc.text, {\"entities\": entities})\n",
    "    \n",
    "    # Append the example to the training data\n",
    "    TRAINING_DATA.append(training_example)\n",
    "    #Modified End\n",
    "    \n",
    "    '''\n",
    "    entities = [(span.start_char, span.end_char, \"INITIALIZATION\") for span in spans]\n",
    "    \n",
    "    for eachWord in entities:\n",
    "        print(\"Entities: {}\".format(eachWord))\n",
    "        \n",
    "    # Format the matches as a (doc.text, entities) tuple\n",
    "    training_example = (doc.text, {\"entities\": entities})\n",
    "    # Append the example to the training data\n",
    "    TRAINING_DATA.append(training_example)\n",
    "    '''\n",
    "    \n",
    "\n",
    "#print(*TRAINING_DATA, sep=\"\\n\")\n"
   ]
  },
  {
   "cell_type": "code",
   "execution_count": 71,
   "metadata": {},
   "outputs": [],
   "source": [
    "#Store to Data file for inspection\n",
    "with open(\"training_data.txt\",\"w\") as o_file:\n",
    "    for item in TRAINING_DATA:\n",
    "        o_file.write(\"{}\\n\".format(item))"
   ]
  },
  {
   "cell_type": "code",
   "execution_count": null,
   "metadata": {
    "scrolled": true
   },
   "outputs": [],
   "source": [
    "#Training Loop\n",
    "import random\n",
    "\n",
    "nlp = spacy.blank(\"en\")\n",
    "ner = nlp.create_pipe(\"ner\")\n",
    "nlp.add_pipe(ner)\n",
    "\n",
    "ner.add_label(\"DATATYPE\")\n",
    "ner.add_label(\"SCOPE\")\n",
    "ner.add_label(\"OPERATOR\")\n",
    "ner.add_label(\"COMMAND\")\n",
    "ner.add_label(\"FUNC_PROG\")\n",
    "\n",
    "# Start the training\n",
    "nlp.begin_training()\n",
    "\n",
    "# Loop for 10 iterations\n",
    "for itn in range(3):\n",
    "    # Shuffle the training data\n",
    "    random.shuffle(TRAINING_DATA)\n",
    "    losses = {}\n",
    "\n",
    "    # Batch the examples and iterate over them\n",
    "    for batch in spacy.util.minibatch(TRAINING_DATA, size=2000):\n",
    "        texts = [text for text, entities in batch]\n",
    "        annotations = [entities for text, entities in batch]\n",
    "\n",
    "        # Update the model\n",
    "        nlp.update(texts, annotations, losses=losses)\n",
    "    print(losses)"
   ]
  },
  {
   "cell_type": "code",
   "execution_count": 66,
   "metadata": {
    "scrolled": true
   },
   "outputs": [
    {
     "name": "stdout",
     "output_type": "stream",
     "text": [
      "Print 0 5 COMMAND\n",
      "variable 6 14 DATATYPE\n"
     ]
    },
    {
     "data": {
      "text/html": [
       "<span class=\"tex2jax_ignore\"><div class=\"entities\" style=\"line-height: 2.5; direction: ltr\">\n",
       "<mark class=\"entity\" style=\"background: #ddd; padding: 0.45em 0.6em; margin: 0 0.25em; line-height: 1; border-radius: 0.35em;\">\n",
       "    Print\n",
       "    <span style=\"font-size: 0.8em; font-weight: bold; line-height: 1; border-radius: 0.35em; text-transform: uppercase; vertical-align: middle; margin-left: 0.5rem\">COMMAND</span>\n",
       "</mark>\n",
       " \n",
       "<mark class=\"entity\" style=\"background: #ddd; padding: 0.45em 0.6em; margin: 0 0.25em; line-height: 1; border-radius: 0.35em;\">\n",
       "    variable\n",
       "    <span style=\"font-size: 0.8em; font-weight: bold; line-height: 1; border-radius: 0.35em; text-transform: uppercase; vertical-align: middle; margin-left: 0.5rem\">DATATYPE</span>\n",
       "</mark>\n",
       " i to screen</div></span>"
      ],
      "text/plain": [
       "<IPython.core.display.HTML object>"
      ]
     },
     "metadata": {},
     "output_type": "display_data"
    }
   ],
   "source": [
    "from spacy import displacy\n",
    "\n",
    "doc = nlp(\"Print variable i to screen\")\n",
    "for ent in doc.ents:\n",
    "    print (ent.text, ent.start_char, ent.end_char, ent.label_)\n",
    "\n",
    "displacy.render(nlp(doc.text), style=\"ent\", jupyter=True)"
   ]
  },
  {
   "cell_type": "code",
   "execution_count": 67,
   "metadata": {
    "scrolled": true
   },
   "outputs": [
    {
     "name": "stdout",
     "output_type": "stream",
     "text": [
      "set 0 3 COMMAND\n",
      "numbers 4 11 DATATYPE\n"
     ]
    },
    {
     "data": {
      "text/html": [
       "<span class=\"tex2jax_ignore\"><div class=\"entities\" style=\"line-height: 2.5; direction: ltr\">\n",
       "<mark class=\"entity\" style=\"background: #ddd; padding: 0.45em 0.6em; margin: 0 0.25em; line-height: 1; border-radius: 0.35em;\">\n",
       "    set\n",
       "    <span style=\"font-size: 0.8em; font-weight: bold; line-height: 1; border-radius: 0.35em; text-transform: uppercase; vertical-align: middle; margin-left: 0.5rem\">COMMAND</span>\n",
       "</mark>\n",
       " \n",
       "<mark class=\"entity\" style=\"background: #ddd; padding: 0.45em 0.6em; margin: 0 0.25em; line-height: 1; border-radius: 0.35em;\">\n",
       "    numbers\n",
       "    <span style=\"font-size: 0.8em; font-weight: bold; line-height: 1; border-radius: 0.35em; text-transform: uppercase; vertical-align: middle; margin-left: 0.5rem\">DATATYPE</span>\n",
       "</mark>\n",
       " a and b</div></span>"
      ],
      "text/plain": [
       "<IPython.core.display.HTML object>"
      ]
     },
     "metadata": {},
     "output_type": "display_data"
    }
   ],
   "source": [
    "doc = nlp(\"set numbers a and b\")\n",
    "for ent in doc.ents:\n",
    "    print (ent.text, ent.start_char, ent.end_char, ent.label_)\n",
    "\n",
    "displacy.render(nlp(doc.text), style=\"ent\", jupyter=True)"
   ]
  },
  {
   "cell_type": "code",
   "execution_count": 68,
   "metadata": {},
   "outputs": [
    {
     "name": "stdout",
     "output_type": "stream",
     "text": [
      "create 0 6 COMMAND\n",
      "function 9 17 OPERATOR\n",
      "add 21 24 OPERATOR\n",
      "numbers 25 32 DATATYPE\n"
     ]
    },
    {
     "data": {
      "text/html": [
       "<span class=\"tex2jax_ignore\"><div class=\"entities\" style=\"line-height: 2.5; direction: ltr\">\n",
       "<mark class=\"entity\" style=\"background: #ddd; padding: 0.45em 0.6em; margin: 0 0.25em; line-height: 1; border-radius: 0.35em;\">\n",
       "    create\n",
       "    <span style=\"font-size: 0.8em; font-weight: bold; line-height: 1; border-radius: 0.35em; text-transform: uppercase; vertical-align: middle; margin-left: 0.5rem\">COMMAND</span>\n",
       "</mark>\n",
       " a \n",
       "<mark class=\"entity\" style=\"background: #ddd; padding: 0.45em 0.6em; margin: 0 0.25em; line-height: 1; border-radius: 0.35em;\">\n",
       "    function\n",
       "    <span style=\"font-size: 0.8em; font-weight: bold; line-height: 1; border-radius: 0.35em; text-transform: uppercase; vertical-align: middle; margin-left: 0.5rem\">OPERATOR</span>\n",
       "</mark>\n",
       " to \n",
       "<mark class=\"entity\" style=\"background: #ddd; padding: 0.45em 0.6em; margin: 0 0.25em; line-height: 1; border-radius: 0.35em;\">\n",
       "    add\n",
       "    <span style=\"font-size: 0.8em; font-weight: bold; line-height: 1; border-radius: 0.35em; text-transform: uppercase; vertical-align: middle; margin-left: 0.5rem\">OPERATOR</span>\n",
       "</mark>\n",
       " \n",
       "<mark class=\"entity\" style=\"background: #ddd; padding: 0.45em 0.6em; margin: 0 0.25em; line-height: 1; border-radius: 0.35em;\">\n",
       "    numbers\n",
       "    <span style=\"font-size: 0.8em; font-weight: bold; line-height: 1; border-radius: 0.35em; text-transform: uppercase; vertical-align: middle; margin-left: 0.5rem\">DATATYPE</span>\n",
       "</mark>\n",
       " a and b</div></span>"
      ],
      "text/plain": [
       "<IPython.core.display.HTML object>"
      ]
     },
     "metadata": {},
     "output_type": "display_data"
    }
   ],
   "source": [
    "doc = nlp(\"create a function to add numbers a and b\")\n",
    "#doc = nlp(\"add global a and b\")\n",
    "for ent in doc.ents:\n",
    "    print (ent.text, ent.start_char, ent.end_char, ent.label_)\n",
    "\n",
    "displacy.render(nlp(doc.text), style=\"ent\", jupyter=True)"
   ]
  },
  {
   "cell_type": "code",
   "execution_count": null,
   "metadata": {},
   "outputs": [],
   "source": []
  }
 ],
 "metadata": {
  "kernelspec": {
   "display_name": "Python 3",
   "language": "python",
   "name": "python3"
  },
  "language_info": {
   "codemirror_mode": {
    "name": "ipython",
    "version": 3
   },
   "file_extension": ".py",
   "mimetype": "text/x-python",
   "name": "python",
   "nbconvert_exporter": "python",
   "pygments_lexer": "ipython3",
   "version": "3.8.5"
  }
 },
 "nbformat": 4,
 "nbformat_minor": 4
}
